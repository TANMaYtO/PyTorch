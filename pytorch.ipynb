{
 "cells": [
  {
   "cell_type": "code",
   "execution_count": 1,
   "id": "b582f28c",
   "metadata": {
    "_cell_guid": "b1076dfc-b9ad-4769-8c92-a6c4dae69d19",
    "_uuid": "8f2839f25d086af736a60e9eeb907d3b93b6e0e5",
    "execution": {
     "iopub.execute_input": "2025-08-02T09:05:16.549883Z",
     "iopub.status.busy": "2025-08-02T09:05:16.549050Z",
     "iopub.status.idle": "2025-08-02T09:05:18.273663Z",
     "shell.execute_reply": "2025-08-02T09:05:18.272980Z"
    },
    "papermill": {
     "duration": 1.730644,
     "end_time": "2025-08-02T09:05:18.275129",
     "exception": false,
     "start_time": "2025-08-02T09:05:16.544485",
     "status": "completed"
    },
    "tags": []
   },
   "outputs": [],
   "source": [
    "# This Python 3 environment comes with many helpful analytics libraries installed\n",
    "# It is defined by the kaggle/python Docker image: https://github.com/kaggle/docker-python\n",
    "# For example, here's several helpful packages to load\n",
    "\n",
    "import numpy as np # linear algebra\n",
    "import pandas as pd # data processing, CSV file I/O (e.g. pd.read_csv)\n",
    "\n",
    "# Input data files are available in the read-only \"../input/\" directory\n",
    "# For example, running this (by clicking run or pressing Shift+Enter) will list all files under the input directory\n",
    "\n",
    "import os\n",
    "for dirname, _, filenames in os.walk('/kaggle/input'):\n",
    "    for filename in filenames:\n",
    "        print(os.path.join(dirname, filename))\n",
    "\n",
    "# You can write up to 20GB to the current directory (/kaggle/working/) that gets preserved as output when you create a version using \"Save & Run All\" \n",
    "# You can also write temporary files to /kaggle/temp/, but they won't be saved outside of the current session"
   ]
  },
  {
   "cell_type": "code",
   "execution_count": 2,
   "id": "a7a9f2e2",
   "metadata": {
    "execution": {
     "iopub.execute_input": "2025-08-02T09:05:18.282299Z",
     "iopub.status.busy": "2025-08-02T09:05:18.281945Z",
     "iopub.status.idle": "2025-08-02T09:05:28.651812Z",
     "shell.execute_reply": "2025-08-02T09:05:28.651142Z"
    },
    "papermill": {
     "duration": 10.374968,
     "end_time": "2025-08-02T09:05:28.653389",
     "exception": false,
     "start_time": "2025-08-02T09:05:18.278421",
     "status": "completed"
    },
    "tags": []
   },
   "outputs": [],
   "source": [
    "import torch\n",
    "import torchvision\n",
    "from torchvision import transforms, datasets"
   ]
  },
  {
   "cell_type": "code",
   "execution_count": 3,
   "id": "054a36a6",
   "metadata": {
    "execution": {
     "iopub.execute_input": "2025-08-02T09:05:28.660430Z",
     "iopub.status.busy": "2025-08-02T09:05:28.660049Z",
     "iopub.status.idle": "2025-08-02T09:05:30.393764Z",
     "shell.execute_reply": "2025-08-02T09:05:30.392774Z"
    },
    "papermill": {
     "duration": 1.738804,
     "end_time": "2025-08-02T09:05:30.395181",
     "exception": false,
     "start_time": "2025-08-02T09:05:28.656377",
     "status": "completed"
    },
    "tags": []
   },
   "outputs": [
    {
     "name": "stderr",
     "output_type": "stream",
     "text": [
      "100%|██████████| 9.91M/9.91M [00:00<00:00, 57.3MB/s]\n",
      "100%|██████████| 28.9k/28.9k [00:00<00:00, 1.75MB/s]\n",
      "100%|██████████| 1.65M/1.65M [00:00<00:00, 14.3MB/s]\n",
      "100%|██████████| 4.54k/4.54k [00:00<00:00, 7.40MB/s]\n"
     ]
    }
   ],
   "source": [
    "train = datasets.MNIST('/kaggle/working/', train = True, download = True, transform = transforms.Compose([transforms.ToTensor()]))\n",
    "\n",
    "\n",
    "test = datasets.MNIST('/kaggle/working/', train = False, download = True, transform = transforms.Compose([transforms.ToTensor()]))"
   ]
  },
  {
   "cell_type": "code",
   "execution_count": 4,
   "id": "69738ef9",
   "metadata": {
    "execution": {
     "iopub.execute_input": "2025-08-02T09:05:30.403499Z",
     "iopub.status.busy": "2025-08-02T09:05:30.403005Z",
     "iopub.status.idle": "2025-08-02T09:05:30.407725Z",
     "shell.execute_reply": "2025-08-02T09:05:30.406943Z"
    },
    "papermill": {
     "duration": 0.010156,
     "end_time": "2025-08-02T09:05:30.409070",
     "exception": false,
     "start_time": "2025-08-02T09:05:30.398914",
     "status": "completed"
    },
    "tags": []
   },
   "outputs": [],
   "source": [
    "trainset = torch.utils.data.DataLoader(train, batch_size = 10, shuffle = True)\n",
    "testset = torch.utils.data.DataLoader(test, batch_size = 10, shuffle = True)"
   ]
  },
  {
   "cell_type": "code",
   "execution_count": 5,
   "id": "bf6091a3",
   "metadata": {
    "execution": {
     "iopub.execute_input": "2025-08-02T09:05:30.416900Z",
     "iopub.status.busy": "2025-08-02T09:05:30.416286Z",
     "iopub.status.idle": "2025-08-02T09:05:30.451154Z",
     "shell.execute_reply": "2025-08-02T09:05:30.450206Z"
    },
    "papermill": {
     "duration": 0.040238,
     "end_time": "2025-08-02T09:05:30.452614",
     "exception": false,
     "start_time": "2025-08-02T09:05:30.412376",
     "status": "completed"
    },
    "tags": []
   },
   "outputs": [
    {
     "name": "stdout",
     "output_type": "stream",
     "text": [
      "[tensor([[[[0., 0., 0.,  ..., 0., 0., 0.],\n",
      "          [0., 0., 0.,  ..., 0., 0., 0.],\n",
      "          [0., 0., 0.,  ..., 0., 0., 0.],\n",
      "          ...,\n",
      "          [0., 0., 0.,  ..., 0., 0., 0.],\n",
      "          [0., 0., 0.,  ..., 0., 0., 0.],\n",
      "          [0., 0., 0.,  ..., 0., 0., 0.]]],\n",
      "\n",
      "\n",
      "        [[[0., 0., 0.,  ..., 0., 0., 0.],\n",
      "          [0., 0., 0.,  ..., 0., 0., 0.],\n",
      "          [0., 0., 0.,  ..., 0., 0., 0.],\n",
      "          ...,\n",
      "          [0., 0., 0.,  ..., 0., 0., 0.],\n",
      "          [0., 0., 0.,  ..., 0., 0., 0.],\n",
      "          [0., 0., 0.,  ..., 0., 0., 0.]]],\n",
      "\n",
      "\n",
      "        [[[0., 0., 0.,  ..., 0., 0., 0.],\n",
      "          [0., 0., 0.,  ..., 0., 0., 0.],\n",
      "          [0., 0., 0.,  ..., 0., 0., 0.],\n",
      "          ...,\n",
      "          [0., 0., 0.,  ..., 0., 0., 0.],\n",
      "          [0., 0., 0.,  ..., 0., 0., 0.],\n",
      "          [0., 0., 0.,  ..., 0., 0., 0.]]],\n",
      "\n",
      "\n",
      "        ...,\n",
      "\n",
      "\n",
      "        [[[0., 0., 0.,  ..., 0., 0., 0.],\n",
      "          [0., 0., 0.,  ..., 0., 0., 0.],\n",
      "          [0., 0., 0.,  ..., 0., 0., 0.],\n",
      "          ...,\n",
      "          [0., 0., 0.,  ..., 0., 0., 0.],\n",
      "          [0., 0., 0.,  ..., 0., 0., 0.],\n",
      "          [0., 0., 0.,  ..., 0., 0., 0.]]],\n",
      "\n",
      "\n",
      "        [[[0., 0., 0.,  ..., 0., 0., 0.],\n",
      "          [0., 0., 0.,  ..., 0., 0., 0.],\n",
      "          [0., 0., 0.,  ..., 0., 0., 0.],\n",
      "          ...,\n",
      "          [0., 0., 0.,  ..., 0., 0., 0.],\n",
      "          [0., 0., 0.,  ..., 0., 0., 0.],\n",
      "          [0., 0., 0.,  ..., 0., 0., 0.]]],\n",
      "\n",
      "\n",
      "        [[[0., 0., 0.,  ..., 0., 0., 0.],\n",
      "          [0., 0., 0.,  ..., 0., 0., 0.],\n",
      "          [0., 0., 0.,  ..., 0., 0., 0.],\n",
      "          ...,\n",
      "          [0., 0., 0.,  ..., 0., 0., 0.],\n",
      "          [0., 0., 0.,  ..., 0., 0., 0.],\n",
      "          [0., 0., 0.,  ..., 0., 0., 0.]]]]), tensor([6, 4, 2, 2, 3, 8, 5, 8, 9, 5])]\n"
     ]
    }
   ],
   "source": [
    "for data in trainset:\n",
    "    print(data)\n",
    "    break"
   ]
  },
  {
   "cell_type": "code",
   "execution_count": 6,
   "id": "70fbadb5",
   "metadata": {
    "execution": {
     "iopub.execute_input": "2025-08-02T09:05:30.461065Z",
     "iopub.status.busy": "2025-08-02T09:05:30.460365Z",
     "iopub.status.idle": "2025-08-02T09:05:30.466878Z",
     "shell.execute_reply": "2025-08-02T09:05:30.466111Z"
    },
    "papermill": {
     "duration": 0.012016,
     "end_time": "2025-08-02T09:05:30.468246",
     "exception": false,
     "start_time": "2025-08-02T09:05:30.456230",
     "status": "completed"
    },
    "tags": []
   },
   "outputs": [
    {
     "data": {
      "text/plain": [
       "tensor(6)"
      ]
     },
     "execution_count": 6,
     "metadata": {},
     "output_type": "execute_result"
    }
   ],
   "source": [
    "x,y = data[0][0], data[1][0]\n",
    "y"
   ]
  },
  {
   "cell_type": "code",
   "execution_count": 7,
   "id": "4fa82db7",
   "metadata": {
    "execution": {
     "iopub.execute_input": "2025-08-02T09:05:30.476754Z",
     "iopub.status.busy": "2025-08-02T09:05:30.476104Z",
     "iopub.status.idle": "2025-08-02T09:05:30.480685Z",
     "shell.execute_reply": "2025-08-02T09:05:30.479879Z"
    },
    "papermill": {
     "duration": 0.009998,
     "end_time": "2025-08-02T09:05:30.481945",
     "exception": false,
     "start_time": "2025-08-02T09:05:30.471947",
     "status": "completed"
    },
    "tags": []
   },
   "outputs": [
    {
     "name": "stdout",
     "output_type": "stream",
     "text": [
      "torch.Size([1, 28, 28])\n"
     ]
    }
   ],
   "source": [
    "import matplotlib.pyplot as plt\n",
    "print(data[0][0].shape)"
   ]
  },
  {
   "cell_type": "code",
   "execution_count": 8,
   "id": "f98f8757",
   "metadata": {
    "execution": {
     "iopub.execute_input": "2025-08-02T09:05:30.490173Z",
     "iopub.status.busy": "2025-08-02T09:05:30.489902Z",
     "iopub.status.idle": "2025-08-02T09:05:30.718337Z",
     "shell.execute_reply": "2025-08-02T09:05:30.717456Z"
    },
    "papermill": {
     "duration": 0.234196,
     "end_time": "2025-08-02T09:05:30.719771",
     "exception": false,
     "start_time": "2025-08-02T09:05:30.485575",
     "status": "completed"
    },
    "tags": []
   },
   "outputs": [
    {
     "data": {
      "image/png": "[encoded data removed]",
      "text/plain": [
       "<Figure size 640x480 with 1 Axes>"
      ]
     },
     "metadata": {},
     "output_type": "display_data"
    }
   ],
   "source": [
    "plt.imshow(data[0][0].squeeze(), cmap=\"gray\")\n",
    "plt.title(f\"Label: {data[1][0]}\")\n",
    "plt.show()"
   ]
  },
  {
   "cell_type": "code",
   "execution_count": 9,
   "id": "76addedc",
   "metadata": {
    "execution": {
     "iopub.execute_input": "2025-08-02T09:05:30.729021Z",
     "iopub.status.busy": "2025-08-02T09:05:30.728554Z",
     "iopub.status.idle": "2025-08-02T09:05:37.450432Z",
     "shell.execute_reply": "2025-08-02T09:05:37.449507Z"
    },
    "papermill": {
     "duration": 6.727915,
     "end_time": "2025-08-02T09:05:37.451809",
     "exception": false,
     "start_time": "2025-08-02T09:05:30.723894",
     "status": "completed"
    },
    "tags": []
   },
   "outputs": [
    {
     "name": "stdout",
     "output_type": "stream",
     "text": [
      "counter dictionary {0: 5923, 1: 6742, 2: 5958, 3: 6131, 4: 5842, 5: 5421, 6: 5918, 7: 6265, 8: 5851, 9: 5949}\n",
      "0: 9.871666666666666\n",
      "1: 11.236666666666666\n",
      "2: 9.93\n",
      "3: 10.218333333333334\n",
      "4: 9.736666666666666\n",
      "5: 9.035\n",
      "6: 9.863333333333333\n",
      "7: 10.441666666666666\n",
      "8: 9.751666666666667\n",
      "9: 9.915000000000001\n"
     ]
    }
   ],
   "source": [
    "# TO SEE IF THE DATASET IS BALANCED\n",
    "\n",
    "total = 0\n",
    "counter_dict = {0:0,1:0,2:0,3:0,4:0,5:0,6:0,7:0,8:0,9:0}\n",
    "for data in trainset:\n",
    "    Xs,ys = data\n",
    "    for y in ys:\n",
    "        counter_dict[int(y)] += 1\n",
    "        total += 1\n",
    "\n",
    "print(\"counter dictionary\",counter_dict)\n",
    "for i in counter_dict:\n",
    "    print(f'{i}: {counter_dict[i]/total*100}')"
   ]
  },
  {
   "cell_type": "code",
   "execution_count": 10,
   "id": "1b656c13",
   "metadata": {
    "execution": {
     "iopub.execute_input": "2025-08-02T09:05:37.460712Z",
     "iopub.status.busy": "2025-08-02T09:05:37.460450Z",
     "iopub.status.idle": "2025-08-02T09:05:37.618425Z",
     "shell.execute_reply": "2025-08-02T09:05:37.617576Z"
    },
    "papermill": {
     "duration": 0.163845,
     "end_time": "2025-08-02T09:05:37.619751",
     "exception": false,
     "start_time": "2025-08-02T09:05:37.455906",
     "status": "completed"
    },
    "tags": []
   },
   "outputs": [
    {
     "data": {
      "image/png": "[encoded data removed]",
      "text/plain": [
       "<Figure size 640x480 with 1 Axes>"
      ]
     },
     "metadata": {},
     "output_type": "display_data"
    }
   ],
   "source": [
    "# to visualize the balance in dataset\n",
    "\n",
    "plt.bar(counter_dict.keys(), counter_dict.values())\n",
    "plt.xlabel(\"Digit\")\n",
    "plt.ylabel(\"Frequency\")\n",
    "plt.title(\"MNIST Digit Distribution\")\n",
    "plt.show()"
   ]
  },
  {
   "cell_type": "code",
   "execution_count": 11,
   "id": "8f7ded36",
   "metadata": {
    "execution": {
     "iopub.execute_input": "2025-08-02T09:05:37.629223Z",
     "iopub.status.busy": "2025-08-02T09:05:37.628935Z",
     "iopub.status.idle": "2025-08-02T09:05:37.637146Z",
     "shell.execute_reply": "2025-08-02T09:05:37.636305Z"
    },
    "papermill": {
     "duration": 0.014324,
     "end_time": "2025-08-02T09:05:37.638389",
     "exception": false,
     "start_time": "2025-08-02T09:05:37.624065",
     "status": "completed"
    },
    "tags": []
   },
   "outputs": [
    {
     "name": "stdout",
     "output_type": "stream",
     "text": [
      "Net(\n",
      "  (fc1): Linear(in_features=784, out_features=128, bias=True)\n",
      "  (fc2): Linear(in_features=128, out_features=128, bias=True)\n",
      "  (fc3): Linear(in_features=128, out_features=128, bias=True)\n",
      "  (fc4): Linear(in_features=128, out_features=10, bias=True)\n",
      ")\n"
     ]
    }
   ],
   "source": [
    "### BUILDING THE NEURAL NETWORK\n",
    "import torch.nn as nn\n",
    "import torch.nn.functional as F\n",
    "\n",
    "class Net(nn.Module):\n",
    "    def __init__(self):\n",
    "        super().__init__()\n",
    "        self.fc1 = nn.Linear(28*28, 128)\n",
    "        self.fc2 = nn.Linear(128, 128)\n",
    "        self.fc3 = nn.Linear(128, 128)\n",
    "        self.fc4 = nn.Linear(128, 10)\n",
    "\n",
    "    def forward(self, X):\n",
    "        X = F.relu(self.fc1(X))\n",
    "        X = F.relu(self.fc2(X))\n",
    "        X = F.relu(self.fc3(X))\n",
    "        X = self.fc4(X)\n",
    "        return F.log_softmax(X, dim = 1)\n",
    "\n",
    "net = Net()\n",
    "print(net)"
   ]
  },
  {
   "cell_type": "code",
   "execution_count": 12,
   "id": "d62988b1",
   "metadata": {
    "execution": {
     "iopub.execute_input": "2025-08-02T09:05:37.649212Z",
     "iopub.status.busy": "2025-08-02T09:05:37.648938Z",
     "iopub.status.idle": "2025-08-02T09:05:37.677057Z",
     "shell.execute_reply": "2025-08-02T09:05:37.676266Z"
    },
    "papermill": {
     "duration": 0.034614,
     "end_time": "2025-08-02T09:05:37.678609",
     "exception": false,
     "start_time": "2025-08-02T09:05:37.643995",
     "status": "completed"
    },
    "tags": []
   },
   "outputs": [
    {
     "data": {
      "text/plain": [
       "tensor([[-2.3650, -2.2164, -2.2239, -2.3946, -2.3406, -2.2634, -2.3006, -2.3439,\n",
       "         -2.2716, -2.3219]], grad_fn=<LogSoftmaxBackward0>)"
      ]
     },
     "execution_count": 12,
     "metadata": {},
     "output_type": "execute_result"
    }
   ],
   "source": [
    "X = torch.rand(28,28)\n",
    "X = X.view(-1,28*28)\n",
    "output = net(X)\n",
    "output"
   ]
  },
  {
   "cell_type": "code",
   "execution_count": 13,
   "id": "69e8eb5e",
   "metadata": {
    "execution": {
     "iopub.execute_input": "2025-08-02T09:05:37.689441Z",
     "iopub.status.busy": "2025-08-02T09:05:37.688560Z",
     "iopub.status.idle": "2025-08-02T09:06:40.303780Z",
     "shell.execute_reply": "2025-08-02T09:06:40.302913Z"
    },
    "papermill": {
     "duration": 62.62189,
     "end_time": "2025-08-02T09:06:40.305209",
     "exception": false,
     "start_time": "2025-08-02T09:05:37.683319",
     "status": "completed"
    },
    "tags": []
   },
   "outputs": [
    {
     "name": "stdout",
     "output_type": "stream",
     "text": [
      "tensor(0.0120, grad_fn=<NllLossBackward0>)\n",
      "tensor(0.0657, grad_fn=<NllLossBackward0>)\n",
      "tensor(0.0457, grad_fn=<NllLossBackward0>)\n"
     ]
    }
   ],
   "source": [
    "# training the model\n",
    "import torch.optim as optim\n",
    "optimizer = optim.Adam(net.parameters(), lr = 1e-3)\n",
    "EPOCHS = 3\n",
    "for epoch in range(EPOCHS):\n",
    "    for data in trainset:\n",
    "        x,y = data\n",
    "        net.zero_grad()\n",
    "        output = net(x.view(-1,28*28))\n",
    "        loss = F.nll_loss(output, y)\n",
    "        loss.backward()\n",
    "        optimizer.step()\n",
    "\n",
    "    print(loss)"
   ]
  },
  {
   "cell_type": "code",
   "execution_count": null,
   "id": "b92230be",
   "metadata": {
    "papermill": {
     "duration": 0.004225,
     "end_time": "2025-08-02T09:06:40.314003",
     "exception": false,
     "start_time": "2025-08-02T09:06:40.309778",
     "status": "completed"
    },
    "tags": []
   },
   "outputs": [],
   "source": []
  }
 ],
 "metadata": {
  "kaggle": {
   "accelerator": "none",
   "dataSources": [],
   "dockerImageVersionId": 31089,
   "isGpuEnabled": false,
   "isInternetEnabled": true,
   "language": "python",
   "sourceType": "notebook"
  },
  "kernelspec": {
   "display_name": "Python 3",
   "language": "python",
   "name": "python3"
  },
  "language_info": {
   "codemirror_mode": {
    "name": "ipython",
    "version": 3
   },
   "file_extension": ".py",
   "mimetype": "text/x-python",
   "name": "python",
   "nbconvert_exporter": "python",
   "pygments_lexer": "ipython3",
   "version": "3.11.13"
  },
  "papermill": {
   "default_parameters": {},
   "duration": 89.882101,
   "end_time": "2025-08-02T09:06:42.040419",
   "environment_variables": {},
   "exception": null,
   "input_path": "__notebook__.ipynb",
   "output_path": "__notebook__.ipynb",
   "parameters": {},
   "start_time": "2025-08-02T09:05:12.158318",
   "version": "2.6.0"
  }
 },
 "nbformat": 4,
 "nbformat_minor": 5
}
