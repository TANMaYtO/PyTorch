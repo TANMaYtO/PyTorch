{
 "cells": [
  {
   "cell_type": "code",
   "execution_count": 1,
   "id": "d7a88214",
   "metadata": {
    "_cell_guid": "b1076dfc-b9ad-4769-8c92-a6c4dae69d19",
    "_uuid": "8f2839f25d086af736a60e9eeb907d3b93b6e0e5",
    "execution": {
     "iopub.execute_input": "2025-08-02T10:55:43.365910Z",
     "iopub.status.busy": "2025-08-02T10:55:43.365611Z",
     "iopub.status.idle": "2025-08-02T10:55:45.121950Z",
     "shell.execute_reply": "2025-08-02T10:55:45.121113Z"
    },
    "papermill": {
     "duration": 1.763238,
     "end_time": "2025-08-02T10:55:45.123659",
     "exception": false,
     "start_time": "2025-08-02T10:55:43.360421",
     "status": "completed"
    },
    "tags": []
   },
   "outputs": [],
   "source": [
    "# This Python 3 environment comes with many helpful analytics libraries installed\n",
    "# It is defined by the kaggle/python Docker image: https://github.com/kaggle/docker-python\n",
    "# For example, here's several helpful packages to load\n",
    "\n",
    "import numpy as np # linear algebra\n",
    "import pandas as pd # data processing, CSV file I/O (e.g. pd.read_csv)\n",
    "\n",
    "# Input data files are available in the read-only \"../input/\" directory\n",
    "# For example, running this (by clicking run or pressing Shift+Enter) will list all files under the input directory\n",
    "\n",
    "import os\n",
    "for dirname, _, filenames in os.walk('/kaggle/input'):\n",
    "    for filename in filenames:\n",
    "        print(os.path.join(dirname, filename))\n",
    "\n",
    "# You can write up to 20GB to the current directory (/kaggle/working/) that gets preserved as output when you create a version using \"Save & Run All\" \n",
    "# You can also write temporary files to /kaggle/temp/, but they won't be saved outside of the current session"
   ]
  },
  {
   "cell_type": "code",
   "execution_count": 2,
   "id": "97019b06",
   "metadata": {
    "execution": {
     "iopub.execute_input": "2025-08-02T10:55:45.131703Z",
     "iopub.status.busy": "2025-08-02T10:55:45.131134Z",
     "iopub.status.idle": "2025-08-02T10:55:56.167690Z",
     "shell.execute_reply": "2025-08-02T10:55:56.166844Z"
    },
    "papermill": {
     "duration": 11.042197,
     "end_time": "2025-08-02T10:55:56.169241",
     "exception": false,
     "start_time": "2025-08-02T10:55:45.127044",
     "status": "completed"
    },
    "tags": []
   },
   "outputs": [],
   "source": [
    "import torch\n",
    "import torchvision\n",
    "from torchvision import transforms, datasets"
   ]
  },
  {
   "cell_type": "code",
   "execution_count": 3,
   "id": "4085d75f",
   "metadata": {
    "execution": {
     "iopub.execute_input": "2025-08-02T10:55:56.176871Z",
     "iopub.status.busy": "2025-08-02T10:55:56.176447Z",
     "iopub.status.idle": "2025-08-02T10:56:01.417104Z",
     "shell.execute_reply": "2025-08-02T10:56:01.416124Z"
    },
    "papermill": {
     "duration": 5.246186,
     "end_time": "2025-08-02T10:56:01.418742",
     "exception": false,
     "start_time": "2025-08-02T10:55:56.172556",
     "status": "completed"
    },
    "tags": []
   },
   "outputs": [
    {
     "name": "stderr",
     "output_type": "stream",
     "text": [
      "100%|██████████| 9.91M/9.91M [00:00<00:00, 12.7MB/s]\n",
      "100%|██████████| 28.9k/28.9k [00:00<00:00, 343kB/s]\n",
      "100%|██████████| 1.65M/1.65M [00:00<00:00, 3.19MB/s]\n",
      "100%|██████████| 4.54k/4.54k [00:00<00:00, 6.11MB/s]\n"
     ]
    }
   ],
   "source": [
    "train = datasets.MNIST('/kaggle/working/', train = True, download = True, transform = transforms.Compose([transforms.ToTensor()]))\n",
    "\n",
    "\n",
    "test = datasets.MNIST('/kaggle/working/', train = False, download = True, transform = transforms.Compose([transforms.ToTensor()]))"
   ]
  },
  {
   "cell_type": "code",
   "execution_count": 4,
   "id": "d9abca16",
   "metadata": {
    "execution": {
     "iopub.execute_input": "2025-08-02T10:56:01.428599Z",
     "iopub.status.busy": "2025-08-02T10:56:01.428266Z",
     "iopub.status.idle": "2025-08-02T10:56:01.433430Z",
     "shell.execute_reply": "2025-08-02T10:56:01.432513Z"
    },
    "papermill": {
     "duration": 0.01173,
     "end_time": "2025-08-02T10:56:01.434866",
     "exception": false,
     "start_time": "2025-08-02T10:56:01.423136",
     "status": "completed"
    },
    "tags": []
   },
   "outputs": [],
   "source": [
    "trainset = torch.utils.data.DataLoader(train, batch_size = 10, shuffle = True)\n",
    "testset = torch.utils.data.DataLoader(test, batch_size = 10, shuffle = True)"
   ]
  },
  {
   "cell_type": "code",
   "execution_count": 5,
   "id": "0ca94524",
   "metadata": {
    "execution": {
     "iopub.execute_input": "2025-08-02T10:56:01.444198Z",
     "iopub.status.busy": "2025-08-02T10:56:01.443884Z",
     "iopub.status.idle": "2025-08-02T10:56:01.487734Z",
     "shell.execute_reply": "2025-08-02T10:56:01.486587Z"
    },
    "papermill": {
     "duration": 0.050588,
     "end_time": "2025-08-02T10:56:01.489679",
     "exception": false,
     "start_time": "2025-08-02T10:56:01.439091",
     "status": "completed"
    },
    "tags": []
   },
   "outputs": [
    {
     "name": "stdout",
     "output_type": "stream",
     "text": [
      "[tensor([[[[0., 0., 0.,  ..., 0., 0., 0.],\n",
      "          [0., 0., 0.,  ..., 0., 0., 0.],\n",
      "          [0., 0., 0.,  ..., 0., 0., 0.],\n",
      "          ...,\n",
      "          [0., 0., 0.,  ..., 0., 0., 0.],\n",
      "          [0., 0., 0.,  ..., 0., 0., 0.],\n",
      "          [0., 0., 0.,  ..., 0., 0., 0.]]],\n",
      "\n",
      "\n",
      "        [[[0., 0., 0.,  ..., 0., 0., 0.],\n",
      "          [0., 0., 0.,  ..., 0., 0., 0.],\n",
      "          [0., 0., 0.,  ..., 0., 0., 0.],\n",
      "          ...,\n",
      "          [0., 0., 0.,  ..., 0., 0., 0.],\n",
      "          [0., 0., 0.,  ..., 0., 0., 0.],\n",
      "          [0., 0., 0.,  ..., 0., 0., 0.]]],\n",
      "\n",
      "\n",
      "        [[[0., 0., 0.,  ..., 0., 0., 0.],\n",
      "          [0., 0., 0.,  ..., 0., 0., 0.],\n",
      "          [0., 0., 0.,  ..., 0., 0., 0.],\n",
      "          ...,\n",
      "          [0., 0., 0.,  ..., 0., 0., 0.],\n",
      "          [0., 0., 0.,  ..., 0., 0., 0.],\n",
      "          [0., 0., 0.,  ..., 0., 0., 0.]]],\n",
      "\n",
      "\n",
      "        ...,\n",
      "\n",
      "\n",
      "        [[[0., 0., 0.,  ..., 0., 0., 0.],\n",
      "          [0., 0., 0.,  ..., 0., 0., 0.],\n",
      "          [0., 0., 0.,  ..., 0., 0., 0.],\n",
      "          ...,\n",
      "          [0., 0., 0.,  ..., 0., 0., 0.],\n",
      "          [0., 0., 0.,  ..., 0., 0., 0.],\n",
      "          [0., 0., 0.,  ..., 0., 0., 0.]]],\n",
      "\n",
      "\n",
      "        [[[0., 0., 0.,  ..., 0., 0., 0.],\n",
      "          [0., 0., 0.,  ..., 0., 0., 0.],\n",
      "          [0., 0., 0.,  ..., 0., 0., 0.],\n",
      "          ...,\n",
      "          [0., 0., 0.,  ..., 0., 0., 0.],\n",
      "          [0., 0., 0.,  ..., 0., 0., 0.],\n",
      "          [0., 0., 0.,  ..., 0., 0., 0.]]],\n",
      "\n",
      "\n",
      "        [[[0., 0., 0.,  ..., 0., 0., 0.],\n",
      "          [0., 0., 0.,  ..., 0., 0., 0.],\n",
      "          [0., 0., 0.,  ..., 0., 0., 0.],\n",
      "          ...,\n",
      "          [0., 0., 0.,  ..., 0., 0., 0.],\n",
      "          [0., 0., 0.,  ..., 0., 0., 0.],\n",
      "          [0., 0., 0.,  ..., 0., 0., 0.]]]]), tensor([0, 6, 6, 6, 7, 9, 4, 9, 4, 2])]\n"
     ]
    }
   ],
   "source": [
    "for data in trainset:\n",
    "    print(data)\n",
    "    break"
   ]
  },
  {
   "cell_type": "code",
   "execution_count": 6,
   "id": "b4295fd5",
   "metadata": {
    "execution": {
     "iopub.execute_input": "2025-08-02T10:56:01.499800Z",
     "iopub.status.busy": "2025-08-02T10:56:01.498973Z",
     "iopub.status.idle": "2025-08-02T10:56:01.506144Z",
     "shell.execute_reply": "2025-08-02T10:56:01.505316Z"
    },
    "papermill": {
     "duration": 0.013802,
     "end_time": "2025-08-02T10:56:01.507669",
     "exception": false,
     "start_time": "2025-08-02T10:56:01.493867",
     "status": "completed"
    },
    "tags": []
   },
   "outputs": [
    {
     "data": {
      "text/plain": [
       "tensor(0)"
      ]
     },
     "execution_count": 6,
     "metadata": {},
     "output_type": "execute_result"
    }
   ],
   "source": [
    "x,y = data[0][0], data[1][0]\n",
    "y"
   ]
  },
  {
   "cell_type": "code",
   "execution_count": 7,
   "id": "a145ec9b",
   "metadata": {
    "execution": {
     "iopub.execute_input": "2025-08-02T10:56:01.517239Z",
     "iopub.status.busy": "2025-08-02T10:56:01.516861Z",
     "iopub.status.idle": "2025-08-02T10:56:01.521941Z",
     "shell.execute_reply": "2025-08-02T10:56:01.521190Z"
    },
    "papermill": {
     "duration": 0.0115,
     "end_time": "2025-08-02T10:56:01.523383",
     "exception": false,
     "start_time": "2025-08-02T10:56:01.511883",
     "status": "completed"
    },
    "tags": []
   },
   "outputs": [
    {
     "name": "stdout",
     "output_type": "stream",
     "text": [
      "torch.Size([1, 28, 28])\n"
     ]
    }
   ],
   "source": [
    "import matplotlib.pyplot as plt\n",
    "print(data[0][0].shape)"
   ]
  },
  {
   "cell_type": "code",
   "execution_count": 8,
   "id": "cb1d6bb3",
   "metadata": {
    "execution": {
     "iopub.execute_input": "2025-08-02T10:56:01.533176Z",
     "iopub.status.busy": "2025-08-02T10:56:01.532833Z",
     "iopub.status.idle": "2025-08-02T10:56:01.812299Z",
     "shell.execute_reply": "2025-08-02T10:56:01.811433Z"
    },
    "papermill": {
     "duration": 0.286111,
     "end_time": "2025-08-02T10:56:01.813853",
     "exception": false,
     "start_time": "2025-08-02T10:56:01.527742",
     "status": "completed"
    },
    "tags": []
   },
   "outputs": [
    {
     "data": {
      "image/png": "[encoded data removed]",
      "text/plain": [
       "<Figure size 640x480 with 1 Axes>"
      ]
     },
     "metadata": {},
     "output_type": "display_data"
    }
   ],
   "source": [
    "plt.imshow(data[0][0].squeeze(), cmap=\"gray\")\n",
    "plt.title(f\"Label: {data[1][0]}\")\n",
    "plt.show()"
   ]
  },
  {
   "cell_type": "code",
   "execution_count": 9,
   "id": "a9def4fc",
   "metadata": {
    "execution": {
     "iopub.execute_input": "2025-08-02T10:56:01.824144Z",
     "iopub.status.busy": "2025-08-02T10:56:01.823817Z",
     "iopub.status.idle": "2025-08-02T10:56:08.833214Z",
     "shell.execute_reply": "2025-08-02T10:56:08.832133Z"
    },
    "papermill": {
     "duration": 7.016138,
     "end_time": "2025-08-02T10:56:08.834698",
     "exception": false,
     "start_time": "2025-08-02T10:56:01.818560",
     "status": "completed"
    },
    "tags": []
   },
   "outputs": [
    {
     "name": "stdout",
     "output_type": "stream",
     "text": [
      "counter dictionary {0: 5923, 1: 6742, 2: 5958, 3: 6131, 4: 5842, 5: 5421, 6: 5918, 7: 6265, 8: 5851, 9: 5949}\n",
      "0: 9.871666666666666\n",
      "1: 11.236666666666666\n",
      "2: 9.93\n",
      "3: 10.218333333333334\n",
      "4: 9.736666666666666\n",
      "5: 9.035\n",
      "6: 9.863333333333333\n",
      "7: 10.441666666666666\n",
      "8: 9.751666666666667\n",
      "9: 9.915000000000001\n"
     ]
    }
   ],
   "source": [
    "# TO SEE IF THE DATASET IS BALANCED\n",
    "\n",
    "total = 0\n",
    "counter_dict = {0:0,1:0,2:0,3:0,4:0,5:0,6:0,7:0,8:0,9:0}\n",
    "for data in trainset:\n",
    "    Xs,ys = data\n",
    "    for y in ys:\n",
    "        counter_dict[int(y)] += 1\n",
    "        total += 1\n",
    "\n",
    "print(\"counter dictionary\",counter_dict)\n",
    "for i in counter_dict:\n",
    "    print(f'{i}: {counter_dict[i]/total*100}')"
   ]
  },
  {
   "cell_type": "code",
   "execution_count": 10,
   "id": "32750a19",
   "metadata": {
    "execution": {
     "iopub.execute_input": "2025-08-02T10:56:08.845945Z",
     "iopub.status.busy": "2025-08-02T10:56:08.845291Z",
     "iopub.status.idle": "2025-08-02T10:56:09.009871Z",
     "shell.execute_reply": "2025-08-02T10:56:09.008982Z"
    },
    "papermill": {
     "duration": 0.171288,
     "end_time": "2025-08-02T10:56:09.011411",
     "exception": false,
     "start_time": "2025-08-02T10:56:08.840123",
     "status": "completed"
    },
    "tags": []
   },
   "outputs": [
    {
     "data": {
      "image/png": "[encoded data removed]",
      "text/plain": [
       "<Figure size 640x480 with 1 Axes>"
      ]
     },
     "metadata": {},
     "output_type": "display_data"
    }
   ],
   "source": [
    "# to visualize the balance in dataset\n",
    "\n",
    "plt.bar(counter_dict.keys(), counter_dict.values())\n",
    "plt.xlabel(\"Digit\")\n",
    "plt.ylabel(\"Frequency\")\n",
    "plt.title(\"MNIST Digit Distribution\")\n",
    "plt.show()"
   ]
  },
  {
   "cell_type": "code",
   "execution_count": 11,
   "id": "0ace84e6",
   "metadata": {
    "execution": {
     "iopub.execute_input": "2025-08-02T10:56:09.022415Z",
     "iopub.status.busy": "2025-08-02T10:56:09.021802Z",
     "iopub.status.idle": "2025-08-02T10:56:09.031312Z",
     "shell.execute_reply": "2025-08-02T10:56:09.030384Z"
    },
    "papermill": {
     "duration": 0.016359,
     "end_time": "2025-08-02T10:56:09.032659",
     "exception": false,
     "start_time": "2025-08-02T10:56:09.016300",
     "status": "completed"
    },
    "tags": []
   },
   "outputs": [
    {
     "name": "stdout",
     "output_type": "stream",
     "text": [
      "Net(\n",
      "  (fc1): Linear(in_features=784, out_features=128, bias=True)\n",
      "  (fc2): Linear(in_features=128, out_features=128, bias=True)\n",
      "  (fc3): Linear(in_features=128, out_features=128, bias=True)\n",
      "  (fc4): Linear(in_features=128, out_features=10, bias=True)\n",
      ")\n"
     ]
    }
   ],
   "source": [
    "### BUILDING THE NEURAL NETWORK\n",
    "import torch.nn as nn\n",
    "import torch.nn.functional as F\n",
    "\n",
    "class Net(nn.Module):\n",
    "    def __init__(self):\n",
    "        super().__init__()\n",
    "        self.fc1 = nn.Linear(28*28, 128)\n",
    "        self.fc2 = nn.Linear(128, 128)\n",
    "        self.fc3 = nn.Linear(128, 128)\n",
    "        self.fc4 = nn.Linear(128, 10)\n",
    "\n",
    "    def forward(self, X):\n",
    "        X = F.relu(self.fc1(X))\n",
    "        X = F.relu(self.fc2(X))\n",
    "        X = F.relu(self.fc3(X))\n",
    "        X = self.fc4(X)\n",
    "        return F.log_softmax(X, dim = 1)\n",
    "\n",
    "net = Net()\n",
    "print(net)"
   ]
  },
  {
   "cell_type": "code",
   "execution_count": 12,
   "id": "90c17d59",
   "metadata": {
    "execution": {
     "iopub.execute_input": "2025-08-02T10:56:09.044867Z",
     "iopub.status.busy": "2025-08-02T10:56:09.044487Z",
     "iopub.status.idle": "2025-08-02T10:56:09.071917Z",
     "shell.execute_reply": "2025-08-02T10:56:09.071138Z"
    },
    "papermill": {
     "duration": 0.035751,
     "end_time": "2025-08-02T10:56:09.073368",
     "exception": false,
     "start_time": "2025-08-02T10:56:09.037617",
     "status": "completed"
    },
    "tags": []
   },
   "outputs": [
    {
     "data": {
      "text/plain": [
       "tensor([[-2.2390, -2.2813, -2.2370, -2.2564, -2.3566, -2.3005, -2.3621, -2.3535,\n",
       "         -2.4344, -2.2264]], grad_fn=<LogSoftmaxBackward0>)"
      ]
     },
     "execution_count": 12,
     "metadata": {},
     "output_type": "execute_result"
    }
   ],
   "source": [
    "X = torch.rand(28,28)\n",
    "X = X.view(-1,28*28)\n",
    "output = net(X)\n",
    "output"
   ]
  },
  {
   "cell_type": "code",
   "execution_count": 13,
   "id": "bb4cb95a",
   "metadata": {
    "execution": {
     "iopub.execute_input": "2025-08-02T10:56:09.084388Z",
     "iopub.status.busy": "2025-08-02T10:56:09.083680Z",
     "iopub.status.idle": "2025-08-02T10:57:14.582926Z",
     "shell.execute_reply": "2025-08-02T10:57:14.581891Z"
    },
    "papermill": {
     "duration": 65.506164,
     "end_time": "2025-08-02T10:57:14.584410",
     "exception": false,
     "start_time": "2025-08-02T10:56:09.078246",
     "status": "completed"
    },
    "tags": []
   },
   "outputs": [
    {
     "name": "stdout",
     "output_type": "stream",
     "text": [
      "tensor(0.0030, grad_fn=<NllLossBackward0>)\n",
      "tensor(0.0022, grad_fn=<NllLossBackward0>)\n",
      "tensor(0.2556, grad_fn=<NllLossBackward0>)\n"
     ]
    }
   ],
   "source": [
    "# training the model\n",
    "import torch.optim as optim\n",
    "optimizer = optim.Adam(net.parameters(), lr = 1e-3)\n",
    "EPOCHS = 3\n",
    "for epoch in range(EPOCHS):\n",
    "    for data in trainset:\n",
    "        x,y = data\n",
    "        net.zero_grad()\n",
    "        output = net(x.view(-1,28*28))\n",
    "        loss = F.nll_loss(output, y)\n",
    "        loss.backward()\n",
    "        optimizer.step()\n",
    "\n",
    "    print(loss)"
   ]
  },
  {
   "cell_type": "code",
   "execution_count": 14,
   "id": "9b2bbe27",
   "metadata": {
    "execution": {
     "iopub.execute_input": "2025-08-02T10:57:14.595575Z",
     "iopub.status.busy": "2025-08-02T10:57:14.595269Z",
     "iopub.status.idle": "2025-08-02T10:57:24.296935Z",
     "shell.execute_reply": "2025-08-02T10:57:24.295959Z"
    },
    "papermill": {
     "duration": 9.709009,
     "end_time": "2025-08-02T10:57:24.298471",
     "exception": false,
     "start_time": "2025-08-02T10:57:14.589462",
     "status": "completed"
    },
    "tags": []
   },
   "outputs": [
    {
     "name": "stdout",
     "output_type": "stream",
     "text": [
      "accuracy:  0.972\n"
     ]
    }
   ],
   "source": [
    "# getting the accuracy\n",
    "\n",
    "correct = 0\n",
    "total = 0\n",
    "with torch.no_grad():\n",
    "    for data in trainset:\n",
    "        X,y = data\n",
    "        output = net(X.view(-1,784))\n",
    "        for idx,i in enumerate(output):\n",
    "            if torch.argmax(i) == y[idx]:\n",
    "                correct += 1\n",
    "            total += 1\n",
    "\n",
    "print('accuracy: ', round(correct/total, 3))"
   ]
  },
  {
   "cell_type": "code",
   "execution_count": null,
   "id": "8d0b1c0b",
   "metadata": {
    "papermill": {
     "duration": 0.00493,
     "end_time": "2025-08-02T10:57:24.308841",
     "exception": false,
     "start_time": "2025-08-02T10:57:24.303911",
     "status": "completed"
    },
    "tags": []
   },
   "outputs": [],
   "source": []
  }
 ],
 "metadata": {
  "kaggle": {
   "accelerator": "none",
   "dataSources": [],
   "dockerImageVersionId": 31089,
   "isGpuEnabled": false,
   "isInternetEnabled": true,
   "language": "python",
   "sourceType": "notebook"
  },
  "kernelspec": {
   "display_name": "Python 3",
   "language": "python",
   "name": "python3"
  },
  "language_info": {
   "codemirror_mode": {
    "name": "ipython",
    "version": 3
   },
   "file_extension": ".py",
   "mimetype": "text/x-python",
   "name": "python",
   "nbconvert_exporter": "python",
   "pygments_lexer": "ipython3",
   "version": "3.11.13"
  },
  "papermill": {
   "default_parameters": {},
   "duration": 108.136686,
   "end_time": "2025-08-02T10:57:26.815880",
   "environment_variables": {},
   "exception": null,
   "input_path": "__notebook__.ipynb",
   "output_path": "__notebook__.ipynb",
   "parameters": {},
   "start_time": "2025-08-02T10:55:38.679194",
   "version": "2.6.0"
  }
 },
 "nbformat": 4,
 "nbformat_minor": 5
}
