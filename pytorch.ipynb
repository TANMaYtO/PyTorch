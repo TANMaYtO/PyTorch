{
 "cells": [
  {
   "cell_type": "code",
   "execution_count": 1,
   "id": "2e128ab4",
   "metadata": {
    "_cell_guid": "b1076dfc-b9ad-4769-8c92-a6c4dae69d19",
    "_uuid": "8f2839f25d086af736a60e9eeb907d3b93b6e0e5",
    "execution": {
     "iopub.execute_input": "2025-08-01T16:06:23.023111Z",
     "iopub.status.busy": "2025-08-01T16:06:23.022631Z",
     "iopub.status.idle": "2025-08-01T16:06:25.405159Z",
     "shell.execute_reply": "2025-08-01T16:06:25.403843Z"
    },
    "papermill": {
     "duration": 2.389676,
     "end_time": "2025-08-01T16:06:25.407110",
     "exception": false,
     "start_time": "2025-08-01T16:06:23.017434",
     "status": "completed"
    },
    "tags": []
   },
   "outputs": [],
   "source": [
    "# This Python 3 environment comes with many helpful analytics libraries installed\n",
    "# It is defined by the kaggle/python Docker image: https://github.com/kaggle/docker-python\n",
    "# For example, here's several helpful packages to load\n",
    "\n",
    "import numpy as np # linear algebra\n",
    "import pandas as pd # data processing, CSV file I/O (e.g. pd.read_csv)\n",
    "\n",
    "# Input data files are available in the read-only \"../input/\" directory\n",
    "# For example, running this (by clicking run or pressing Shift+Enter) will list all files under the input directory\n",
    "\n",
    "import os\n",
    "for dirname, _, filenames in os.walk('/kaggle/input'):\n",
    "    for filename in filenames:\n",
    "        print(os.path.join(dirname, filename))\n",
    "\n",
    "# You can write up to 20GB to the current directory (/kaggle/working/) that gets preserved as output when you create a version using \"Save & Run All\" \n",
    "# You can also write temporary files to /kaggle/temp/, but they won't be saved outside of the current session"
   ]
  },
  {
   "cell_type": "code",
   "execution_count": 2,
   "id": "d2d6199c",
   "metadata": {
    "execution": {
     "iopub.execute_input": "2025-08-01T16:06:25.415422Z",
     "iopub.status.busy": "2025-08-01T16:06:25.414963Z",
     "iopub.status.idle": "2025-08-01T16:06:39.823919Z",
     "shell.execute_reply": "2025-08-01T16:06:39.822496Z"
    },
    "papermill": {
     "duration": 14.415391,
     "end_time": "2025-08-01T16:06:39.826174",
     "exception": false,
     "start_time": "2025-08-01T16:06:25.410783",
     "status": "completed"
    },
    "tags": []
   },
   "outputs": [],
   "source": [
    "import torch\n",
    "import torchvision\n",
    "from torchvision import transforms, datasets"
   ]
  },
  {
   "cell_type": "code",
   "execution_count": 3,
   "id": "44fc843b",
   "metadata": {
    "execution": {
     "iopub.execute_input": "2025-08-01T16:06:39.834783Z",
     "iopub.status.busy": "2025-08-01T16:06:39.834145Z",
     "iopub.status.idle": "2025-08-01T16:06:45.279083Z",
     "shell.execute_reply": "2025-08-01T16:06:45.277709Z"
    },
    "papermill": {
     "duration": 5.45201,
     "end_time": "2025-08-01T16:06:45.281530",
     "exception": false,
     "start_time": "2025-08-01T16:06:39.829520",
     "status": "completed"
    },
    "tags": []
   },
   "outputs": [
    {
     "name": "stderr",
     "output_type": "stream",
     "text": [
      "100%|██████████| 9.91M/9.91M [00:00<00:00, 12.7MB/s]\n",
      "100%|██████████| 28.9k/28.9k [00:00<00:00, 340kB/s]\n",
      "100%|██████████| 1.65M/1.65M [00:00<00:00, 3.13MB/s]\n",
      "100%|██████████| 4.54k/4.54k [00:00<00:00, 4.74MB/s]\n"
     ]
    }
   ],
   "source": [
    "train = datasets.MNIST('/kaggle/working/', train = True, download = True, transform = transforms.Compose([transforms.ToTensor()]))\n",
    "\n",
    "\n",
    "test = datasets.MNIST('/kaggle/working/', train = False, download = True, transform = transforms.Compose([transforms.ToTensor()]))"
   ]
  },
  {
   "cell_type": "code",
   "execution_count": 4,
   "id": "8d95e6c1",
   "metadata": {
    "execution": {
     "iopub.execute_input": "2025-08-01T16:06:45.293796Z",
     "iopub.status.busy": "2025-08-01T16:06:45.293264Z",
     "iopub.status.idle": "2025-08-01T16:06:45.302339Z",
     "shell.execute_reply": "2025-08-01T16:06:45.300455Z"
    },
    "papermill": {
     "duration": 0.016776,
     "end_time": "2025-08-01T16:06:45.304120",
     "exception": false,
     "start_time": "2025-08-01T16:06:45.287344",
     "status": "completed"
    },
    "tags": []
   },
   "outputs": [],
   "source": [
    "trainset = torch.utils.data.DataLoader(train, batch_size = 10, shuffle = True)\n",
    "testset = torch.utils.data.DataLoader(test, batch_size = 10, shuffle = True)"
   ]
  },
  {
   "cell_type": "code",
   "execution_count": 5,
   "id": "5cd7a0e1",
   "metadata": {
    "execution": {
     "iopub.execute_input": "2025-08-01T16:06:45.314405Z",
     "iopub.status.busy": "2025-08-01T16:06:45.314054Z",
     "iopub.status.idle": "2025-08-01T16:06:45.367532Z",
     "shell.execute_reply": "2025-08-01T16:06:45.366321Z"
    },
    "papermill": {
     "duration": 0.060445,
     "end_time": "2025-08-01T16:06:45.369380",
     "exception": false,
     "start_time": "2025-08-01T16:06:45.308935",
     "status": "completed"
    },
    "tags": []
   },
   "outputs": [
    {
     "name": "stdout",
     "output_type": "stream",
     "text": [
      "[tensor([[[[0., 0., 0.,  ..., 0., 0., 0.],\n",
      "          [0., 0., 0.,  ..., 0., 0., 0.],\n",
      "          [0., 0., 0.,  ..., 0., 0., 0.],\n",
      "          ...,\n",
      "          [0., 0., 0.,  ..., 0., 0., 0.],\n",
      "          [0., 0., 0.,  ..., 0., 0., 0.],\n",
      "          [0., 0., 0.,  ..., 0., 0., 0.]]],\n",
      "\n",
      "\n",
      "        [[[0., 0., 0.,  ..., 0., 0., 0.],\n",
      "          [0., 0., 0.,  ..., 0., 0., 0.],\n",
      "          [0., 0., 0.,  ..., 0., 0., 0.],\n",
      "          ...,\n",
      "          [0., 0., 0.,  ..., 0., 0., 0.],\n",
      "          [0., 0., 0.,  ..., 0., 0., 0.],\n",
      "          [0., 0., 0.,  ..., 0., 0., 0.]]],\n",
      "\n",
      "\n",
      "        [[[0., 0., 0.,  ..., 0., 0., 0.],\n",
      "          [0., 0., 0.,  ..., 0., 0., 0.],\n",
      "          [0., 0., 0.,  ..., 0., 0., 0.],\n",
      "          ...,\n",
      "          [0., 0., 0.,  ..., 0., 0., 0.],\n",
      "          [0., 0., 0.,  ..., 0., 0., 0.],\n",
      "          [0., 0., 0.,  ..., 0., 0., 0.]]],\n",
      "\n",
      "\n",
      "        ...,\n",
      "\n",
      "\n",
      "        [[[0., 0., 0.,  ..., 0., 0., 0.],\n",
      "          [0., 0., 0.,  ..., 0., 0., 0.],\n",
      "          [0., 0., 0.,  ..., 0., 0., 0.],\n",
      "          ...,\n",
      "          [0., 0., 0.,  ..., 0., 0., 0.],\n",
      "          [0., 0., 0.,  ..., 0., 0., 0.],\n",
      "          [0., 0., 0.,  ..., 0., 0., 0.]]],\n",
      "\n",
      "\n",
      "        [[[0., 0., 0.,  ..., 0., 0., 0.],\n",
      "          [0., 0., 0.,  ..., 0., 0., 0.],\n",
      "          [0., 0., 0.,  ..., 0., 0., 0.],\n",
      "          ...,\n",
      "          [0., 0., 0.,  ..., 0., 0., 0.],\n",
      "          [0., 0., 0.,  ..., 0., 0., 0.],\n",
      "          [0., 0., 0.,  ..., 0., 0., 0.]]],\n",
      "\n",
      "\n",
      "        [[[0., 0., 0.,  ..., 0., 0., 0.],\n",
      "          [0., 0., 0.,  ..., 0., 0., 0.],\n",
      "          [0., 0., 0.,  ..., 0., 0., 0.],\n",
      "          ...,\n",
      "          [0., 0., 0.,  ..., 0., 0., 0.],\n",
      "          [0., 0., 0.,  ..., 0., 0., 0.],\n",
      "          [0., 0., 0.,  ..., 0., 0., 0.]]]]), tensor([7, 5, 7, 3, 2, 9, 6, 2, 0, 7])]\n"
     ]
    }
   ],
   "source": [
    "for data in trainset:\n",
    "    print(data)\n",
    "    break"
   ]
  },
  {
   "cell_type": "code",
   "execution_count": 6,
   "id": "a0d96fe6",
   "metadata": {
    "execution": {
     "iopub.execute_input": "2025-08-01T16:06:45.380170Z",
     "iopub.status.busy": "2025-08-01T16:06:45.379614Z",
     "iopub.status.idle": "2025-08-01T16:06:45.390192Z",
     "shell.execute_reply": "2025-08-01T16:06:45.388959Z"
    },
    "papermill": {
     "duration": 0.01812,
     "end_time": "2025-08-01T16:06:45.391998",
     "exception": false,
     "start_time": "2025-08-01T16:06:45.373878",
     "status": "completed"
    },
    "tags": []
   },
   "outputs": [
    {
     "data": {
      "text/plain": [
       "tensor(7)"
      ]
     },
     "execution_count": 6,
     "metadata": {},
     "output_type": "execute_result"
    }
   ],
   "source": [
    "x,y = data[0][0], data[1][0]\n",
    "y"
   ]
  },
  {
   "cell_type": "code",
   "execution_count": 7,
   "id": "9fe592d7",
   "metadata": {
    "execution": {
     "iopub.execute_input": "2025-08-01T16:06:45.402446Z",
     "iopub.status.busy": "2025-08-01T16:06:45.402072Z",
     "iopub.status.idle": "2025-08-01T16:06:45.407634Z",
     "shell.execute_reply": "2025-08-01T16:06:45.406364Z"
    },
    "papermill": {
     "duration": 0.012863,
     "end_time": "2025-08-01T16:06:45.409373",
     "exception": false,
     "start_time": "2025-08-01T16:06:45.396510",
     "status": "completed"
    },
    "tags": []
   },
   "outputs": [
    {
     "name": "stdout",
     "output_type": "stream",
     "text": [
      "torch.Size([1, 28, 28])\n"
     ]
    }
   ],
   "source": [
    "import matplotlib.pyplot as plt\n",
    "print(data[0][0].shape)"
   ]
  },
  {
   "cell_type": "code",
   "execution_count": 8,
   "id": "89c4b1bc",
   "metadata": {
    "execution": {
     "iopub.execute_input": "2025-08-01T16:06:45.420075Z",
     "iopub.status.busy": "2025-08-01T16:06:45.419552Z",
     "iopub.status.idle": "2025-08-01T16:06:45.697906Z",
     "shell.execute_reply": "2025-08-01T16:06:45.696856Z"
    },
    "papermill": {
     "duration": 0.285672,
     "end_time": "2025-08-01T16:06:45.699799",
     "exception": false,
     "start_time": "2025-08-01T16:06:45.414127",
     "status": "completed"
    },
    "tags": []
   },
   "outputs": [
    {
     "data": {
      "image/png": "[encoded data removed]",
      "text/plain": [
       "<Figure size 640x480 with 1 Axes>"
      ]
     },
     "metadata": {},
     "output_type": "display_data"
    }
   ],
   "source": [
    "plt.imshow(data[0][0].squeeze(), cmap=\"gray\")\n",
    "plt.title(f\"Label: {data[1][0]}\")\n",
    "plt.show()"
   ]
  },
  {
   "cell_type": "code",
   "execution_count": 9,
   "id": "33520903",
   "metadata": {
    "execution": {
     "iopub.execute_input": "2025-08-01T16:06:45.710856Z",
     "iopub.status.busy": "2025-08-01T16:06:45.710467Z",
     "iopub.status.idle": "2025-08-01T16:06:53.474482Z",
     "shell.execute_reply": "2025-08-01T16:06:53.473200Z"
    },
    "papermill": {
     "duration": 7.771302,
     "end_time": "2025-08-01T16:06:53.476143",
     "exception": false,
     "start_time": "2025-08-01T16:06:45.704841",
     "status": "completed"
    },
    "tags": []
   },
   "outputs": [
    {
     "name": "stdout",
     "output_type": "stream",
     "text": [
      "counter dictionary {0: 5923, 1: 6742, 2: 5958, 3: 6131, 4: 5842, 5: 5421, 6: 5918, 7: 6265, 8: 5851, 9: 5949}\n",
      "0: 9.871666666666666\n",
      "1: 11.236666666666666\n",
      "2: 9.93\n",
      "3: 10.218333333333334\n",
      "4: 9.736666666666666\n",
      "5: 9.035\n",
      "6: 9.863333333333333\n",
      "7: 10.441666666666666\n",
      "8: 9.751666666666667\n",
      "9: 9.915000000000001\n"
     ]
    }
   ],
   "source": [
    "# TO SEE IF THE DATASET IS BALANCED\n",
    "\n",
    "total = 0\n",
    "counter_dict = {0:0,1:0,2:0,3:0,4:0,5:0,6:0,7:0,8:0,9:0}\n",
    "for data in trainset:\n",
    "    Xs,ys = data\n",
    "    for y in ys:\n",
    "        counter_dict[int(y)] += 1\n",
    "        total += 1\n",
    "\n",
    "print(\"counter dictionary\",counter_dict)\n",
    "for i in counter_dict:\n",
    "    print(f'{i}: {counter_dict[i]/total*100}')"
   ]
  },
  {
   "cell_type": "code",
   "execution_count": 10,
   "id": "70d703f4",
   "metadata": {
    "execution": {
     "iopub.execute_input": "2025-08-01T16:06:53.486867Z",
     "iopub.status.busy": "2025-08-01T16:06:53.486475Z",
     "iopub.status.idle": "2025-08-01T16:06:53.681638Z",
     "shell.execute_reply": "2025-08-01T16:06:53.680723Z"
    },
    "papermill": {
     "duration": 0.202367,
     "end_time": "2025-08-01T16:06:53.683385",
     "exception": false,
     "start_time": "2025-08-01T16:06:53.481018",
     "status": "completed"
    },
    "tags": []
   },
   "outputs": [
    {
     "data": {
      "image/png": "[encoded data removed]",
      "text/plain": [
       "<Figure size 640x480 with 1 Axes>"
      ]
     },
     "metadata": {},
     "output_type": "display_data"
    }
   ],
   "source": [
    "# to visualize the balance in dataset\n",
    "\n",
    "plt.bar(counter_dict.keys(), counter_dict.values())\n",
    "plt.xlabel(\"Digit\")\n",
    "plt.ylabel(\"Frequency\")\n",
    "plt.title(\"MNIST Digit Distribution\")\n",
    "plt.show()"
   ]
  },
  {
   "cell_type": "code",
   "execution_count": 11,
   "id": "dd672c97",
   "metadata": {
    "execution": {
     "iopub.execute_input": "2025-08-01T16:06:53.695593Z",
     "iopub.status.busy": "2025-08-01T16:06:53.695257Z",
     "iopub.status.idle": "2025-08-01T16:06:53.703499Z",
     "shell.execute_reply": "2025-08-01T16:06:53.702527Z"
    },
    "papermill": {
     "duration": 0.016113,
     "end_time": "2025-08-01T16:06:53.705097",
     "exception": false,
     "start_time": "2025-08-01T16:06:53.688984",
     "status": "completed"
    },
    "tags": []
   },
   "outputs": [
    {
     "name": "stdout",
     "output_type": "stream",
     "text": [
      "Net(\n",
      "  (fc1): Linear(in_features=784, out_features=128, bias=True)\n",
      "  (fc2): Linear(in_features=128, out_features=128, bias=True)\n",
      "  (fc3): Linear(in_features=128, out_features=128, bias=True)\n",
      "  (fc4): Linear(in_features=128, out_features=10, bias=True)\n",
      ")\n"
     ]
    }
   ],
   "source": [
    "### BUILDING THE NEURAL NETWORK\n",
    "import torch.nn as nn\n",
    "import torch.nn.functional as F\n",
    "\n",
    "class Net(nn.Module):\n",
    "    def __init__(self):\n",
    "        super().__init__()\n",
    "        self.fc1 = nn.Linear(28*28, 128)\n",
    "        self.fc2 = nn.Linear(128, 128)\n",
    "        self.fc3 = nn.Linear(128, 128)\n",
    "        self.fc4 = nn.Linear(128, 10)\n",
    "\n",
    "net = Net()\n",
    "print(net)"
   ]
  },
  {
   "cell_type": "code",
   "execution_count": null,
   "id": "24028ed1",
   "metadata": {
    "papermill": {
     "duration": 0.004877,
     "end_time": "2025-08-01T16:06:53.716656",
     "exception": false,
     "start_time": "2025-08-01T16:06:53.711779",
     "status": "completed"
    },
    "tags": []
   },
   "outputs": [],
   "source": []
  }
 ],
 "metadata": {
  "kaggle": {
   "accelerator": "none",
   "dataSources": [],
   "dockerImageVersionId": 31089,
   "isGpuEnabled": false,
   "isInternetEnabled": true,
   "language": "python",
   "sourceType": "notebook"
  },
  "kernelspec": {
   "display_name": "Python 3",
   "language": "python",
   "name": "python3"
  },
  "language_info": {
   "codemirror_mode": {
    "name": "ipython",
    "version": 3
   },
   "file_extension": ".py",
   "mimetype": "text/x-python",
   "name": "python",
   "nbconvert_exporter": "python",
   "pygments_lexer": "ipython3",
   "version": "3.11.13"
  },
  "papermill": {
   "default_parameters": {},
   "duration": 39.612484,
   "end_time": "2025-08-01T16:06:56.409405",
   "environment_variables": {},
   "exception": null,
   "input_path": "__notebook__.ipynb",
   "output_path": "__notebook__.ipynb",
   "parameters": {},
   "start_time": "2025-08-01T16:06:16.796921",
   "version": "2.6.0"
  }
 },
 "nbformat": 4,
 "nbformat_minor": 5
}
