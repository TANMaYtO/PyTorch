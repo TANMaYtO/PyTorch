{
 "cells": [
  {
   "cell_type": "code",
   "execution_count": 1,
   "id": "1b045bd3",
   "metadata": {
    "_cell_guid": "b1076dfc-b9ad-4769-8c92-a6c4dae69d19",
    "_uuid": "8f2839f25d086af736a60e9eeb907d3b93b6e0e5",
    "execution": {
     "iopub.execute_input": "2025-07-29T15:02:35.202244Z",
     "iopub.status.busy": "2025-07-29T15:02:35.201946Z",
     "iopub.status.idle": "2025-07-29T15:02:36.928660Z",
     "shell.execute_reply": "2025-07-29T15:02:36.927784Z"
    },
    "papermill": {
     "duration": 1.732079,
     "end_time": "2025-07-29T15:02:36.930662",
     "exception": false,
     "start_time": "2025-07-29T15:02:35.198583",
     "status": "completed"
    },
    "tags": []
   },
   "outputs": [],
   "source": [
    "# This Python 3 environment comes with many helpful analytics libraries installed\n",
    "# It is defined by the kaggle/python Docker image: https://github.com/kaggle/docker-python\n",
    "# For example, here's several helpful packages to load\n",
    "\n",
    "import numpy as np # linear algebra\n",
    "import pandas as pd # data processing, CSV file I/O (e.g. pd.read_csv)\n",
    "\n",
    "# Input data files are available in the read-only \"../input/\" directory\n",
    "# For example, running this (by clicking run or pressing Shift+Enter) will list all files under the input directory\n",
    "\n",
    "import os\n",
    "for dirname, _, filenames in os.walk('/kaggle/input'):\n",
    "    for filename in filenames:\n",
    "        print(os.path.join(dirname, filename))\n",
    "\n",
    "# You can write up to 20GB to the current directory (/kaggle/working/) that gets preserved as output when you create a version using \"Save & Run All\" \n",
    "# You can also write temporary files to /kaggle/temp/, but they won't be saved outside of the current session"
   ]
  },
  {
   "cell_type": "code",
   "execution_count": 2,
   "id": "2df95d7d",
   "metadata": {
    "execution": {
     "iopub.execute_input": "2025-07-29T15:02:36.936214Z",
     "iopub.status.busy": "2025-07-29T15:02:36.935745Z",
     "iopub.status.idle": "2025-07-29T15:02:47.386094Z",
     "shell.execute_reply": "2025-07-29T15:02:47.385256Z"
    },
    "papermill": {
     "duration": 10.454778,
     "end_time": "2025-07-29T15:02:47.387750",
     "exception": false,
     "start_time": "2025-07-29T15:02:36.932972",
     "status": "completed"
    },
    "tags": []
   },
   "outputs": [],
   "source": [
    "import torch\n",
    "import torchvision\n",
    "from torchvision import transforms, datasets"
   ]
  },
  {
   "cell_type": "code",
   "execution_count": 3,
   "id": "c89cf6ee",
   "metadata": {
    "execution": {
     "iopub.execute_input": "2025-07-29T15:02:47.392330Z",
     "iopub.status.busy": "2025-07-29T15:02:47.391908Z",
     "iopub.status.idle": "2025-07-29T15:02:57.989962Z",
     "shell.execute_reply": "2025-07-29T15:02:57.988771Z"
    },
    "papermill": {
     "duration": 10.601988,
     "end_time": "2025-07-29T15:02:57.991527",
     "exception": false,
     "start_time": "2025-07-29T15:02:47.389539",
     "status": "completed"
    },
    "tags": []
   },
   "outputs": [
    {
     "name": "stderr",
     "output_type": "stream",
     "text": [
      "100%|██████████| 9.91M/9.91M [00:01<00:00, 5.64MB/s]\n",
      "100%|██████████| 28.9k/28.9k [00:00<00:00, 149kB/s]\n",
      "100%|██████████| 1.65M/1.65M [00:01<00:00, 1.40MB/s]\n",
      "100%|██████████| 4.54k/4.54k [00:00<00:00, 4.93MB/s]\n"
     ]
    }
   ],
   "source": [
    "train = datasets.MNIST('/kaggle/working/', train = True, download = True, transform = transforms.Compose([transforms.ToTensor()]))\n",
    "\n",
    "\n",
    "test = datasets.MNIST('/kaggle/working/', train = False, download = True, transform = transforms.Compose([transforms.ToTensor()]))"
   ]
  },
  {
   "cell_type": "code",
   "execution_count": null,
   "id": "a643b2f8",
   "metadata": {
    "papermill": {
     "duration": 0.002678,
     "end_time": "2025-07-29T15:02:57.997399",
     "exception": false,
     "start_time": "2025-07-29T15:02:57.994721",
     "status": "completed"
    },
    "tags": []
   },
   "outputs": [],
   "source": []
  }
 ],
 "metadata": {
  "kaggle": {
   "accelerator": "none",
   "dataSources": [],
   "dockerImageVersionId": 31089,
   "isGpuEnabled": false,
   "isInternetEnabled": true,
   "language": "python",
   "sourceType": "notebook"
  },
  "kernelspec": {
   "display_name": "Python 3",
   "language": "python",
   "name": "python3"
  },
  "language_info": {
   "codemirror_mode": {
    "name": "ipython",
    "version": 3
   },
   "file_extension": ".py",
   "mimetype": "text/x-python",
   "name": "python",
   "nbconvert_exporter": "python",
   "pygments_lexer": "ipython3",
   "version": "3.11.13"
  },
  "papermill": {
   "default_parameters": {},
   "duration": 30.098129,
   "end_time": "2025-07-29T15:03:00.717293",
   "environment_variables": {},
   "exception": null,
   "input_path": "__notebook__.ipynb",
   "output_path": "__notebook__.ipynb",
   "parameters": {},
   "start_time": "2025-07-29T15:02:30.619164",
   "version": "2.6.0"
  }
 },
 "nbformat": 4,
 "nbformat_minor": 5
}
