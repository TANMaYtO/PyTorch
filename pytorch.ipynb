{
 "cells": [
  {
   "cell_type": "code",
   "execution_count": 1,
   "id": "7a80eea9",
   "metadata": {
    "_cell_guid": "b1076dfc-b9ad-4769-8c92-a6c4dae69d19",
    "_uuid": "8f2839f25d086af736a60e9eeb907d3b93b6e0e5",
    "execution": {
     "iopub.execute_input": "2025-07-29T15:01:05.702484Z",
     "iopub.status.busy": "2025-07-29T15:01:05.702173Z",
     "iopub.status.idle": "2025-07-29T15:01:07.670068Z",
     "shell.execute_reply": "2025-07-29T15:01:07.669013Z"
    },
    "papermill": {
     "duration": 1.973457,
     "end_time": "2025-07-29T15:01:07.671899",
     "exception": false,
     "start_time": "2025-07-29T15:01:05.698442",
     "status": "completed"
    },
    "tags": []
   },
   "outputs": [],
   "source": [
    "# This Python 3 environment comes with many helpful analytics libraries installed\n",
    "# It is defined by the kaggle/python Docker image: https://github.com/kaggle/docker-python\n",
    "# For example, here's several helpful packages to load\n",
    "\n",
    "import numpy as np # linear algebra\n",
    "import pandas as pd # data processing, CSV file I/O (e.g. pd.read_csv)\n",
    "\n",
    "# Input data files are available in the read-only \"../input/\" directory\n",
    "# For example, running this (by clicking run or pressing Shift+Enter) will list all files under the input directory\n",
    "\n",
    "import os\n",
    "for dirname, _, filenames in os.walk('/kaggle/input'):\n",
    "    for filename in filenames:\n",
    "        print(os.path.join(dirname, filename))\n",
    "\n",
    "# You can write up to 20GB to the current directory (/kaggle/working/) that gets preserved as output when you create a version using \"Save & Run All\" \n",
    "# You can also write temporary files to /kaggle/temp/, but they won't be saved outside of the current session"
   ]
  },
  {
   "cell_type": "code",
   "execution_count": 2,
   "id": "274cc0aa",
   "metadata": {
    "execution": {
     "iopub.execute_input": "2025-07-29T15:01:07.678323Z",
     "iopub.status.busy": "2025-07-29T15:01:07.677794Z",
     "iopub.status.idle": "2025-07-29T15:01:19.346926Z",
     "shell.execute_reply": "2025-07-29T15:01:19.345979Z"
    },
    "papermill": {
     "duration": 11.674416,
     "end_time": "2025-07-29T15:01:19.348526",
     "exception": false,
     "start_time": "2025-07-29T15:01:07.674110",
     "status": "completed"
    },
    "tags": []
   },
   "outputs": [],
   "source": [
    "import torch\n",
    "import torchvision\n",
    "from torchvision import transforms, datasets"
   ]
  },
  {
   "cell_type": "code",
   "execution_count": 3,
   "id": "dfb7d01d",
   "metadata": {
    "execution": {
     "iopub.execute_input": "2025-07-29T15:01:19.353387Z",
     "iopub.status.busy": "2025-07-29T15:01:19.352950Z",
     "iopub.status.idle": "2025-07-29T15:01:23.510003Z",
     "shell.execute_reply": "2025-07-29T15:01:23.509055Z"
    },
    "papermill": {
     "duration": 4.161247,
     "end_time": "2025-07-29T15:01:23.511659",
     "exception": false,
     "start_time": "2025-07-29T15:01:19.350412",
     "status": "completed"
    },
    "tags": []
   },
   "outputs": [
    {
     "name": "stderr",
     "output_type": "stream",
     "text": [
      "100%|██████████| 9.91M/9.91M [00:00<00:00, 17.8MB/s]\n",
      "100%|██████████| 28.9k/28.9k [00:00<00:00, 480kB/s]\n",
      "100%|██████████| 1.65M/1.65M [00:00<00:00, 4.40MB/s]\n",
      "100%|██████████| 4.54k/4.54k [00:00<00:00, 5.23MB/s]\n"
     ]
    }
   ],
   "source": [
    "train = datasets.MNIST('/kaggle/working/', train = True, download = True, transform = transforms.Compose([transforms.ToTensor()]))\n",
    "\n",
    "\n",
    "test = datasets.MNIST('/kaggle/working/', train = True, download = True, transform = transforms.Compose([transforms.ToTensor()]))"
   ]
  },
  {
   "cell_type": "code",
   "execution_count": null,
   "id": "b4ea69b9",
   "metadata": {
    "papermill": {
     "duration": 0.002669,
     "end_time": "2025-07-29T15:01:23.518122",
     "exception": false,
     "start_time": "2025-07-29T15:01:23.515453",
     "status": "completed"
    },
    "tags": []
   },
   "outputs": [],
   "source": []
  }
 ],
 "metadata": {
  "kaggle": {
   "accelerator": "none",
   "dataSources": [],
   "dockerImageVersionId": 31089,
   "isGpuEnabled": false,
   "isInternetEnabled": true,
   "language": "python",
   "sourceType": "notebook"
  },
  "kernelspec": {
   "display_name": "Python 3",
   "language": "python",
   "name": "python3"
  },
  "language_info": {
   "codemirror_mode": {
    "name": "ipython",
    "version": 3
   },
   "file_extension": ".py",
   "mimetype": "text/x-python",
   "name": "python",
   "nbconvert_exporter": "python",
   "pygments_lexer": "ipython3",
   "version": "3.11.13"
  },
  "papermill": {
   "default_parameters": {},
   "duration": 25.209027,
   "end_time": "2025-07-29T15:01:25.830962",
   "environment_variables": {},
   "exception": null,
   "input_path": "__notebook__.ipynb",
   "output_path": "__notebook__.ipynb",
   "parameters": {},
   "start_time": "2025-07-29T15:01:00.621935",
   "version": "2.6.0"
  }
 },
 "nbformat": 4,
 "nbformat_minor": 5
}
