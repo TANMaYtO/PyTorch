{
 "cells": [
  {
   "cell_type": "code",
   "execution_count": 1,
   "id": "9c070865",
   "metadata": {
    "_cell_guid": "b1076dfc-b9ad-4769-8c92-a6c4dae69d19",
    "_uuid": "8f2839f25d086af736a60e9eeb907d3b93b6e0e5",
    "execution": {
     "iopub.execute_input": "2025-08-01T15:30:48.100253Z",
     "iopub.status.busy": "2025-08-01T15:30:48.100000Z",
     "iopub.status.idle": "2025-08-01T15:30:49.629047Z",
     "shell.execute_reply": "2025-08-01T15:30:49.628363Z"
    },
    "papermill": {
     "duration": 1.533884,
     "end_time": "2025-08-01T15:30:49.630497",
     "exception": false,
     "start_time": "2025-08-01T15:30:48.096613",
     "status": "completed"
    },
    "tags": []
   },
   "outputs": [],
   "source": [
    "# This Python 3 environment comes with many helpful analytics libraries installed\n",
    "# It is defined by the kaggle/python Docker image: https://github.com/kaggle/docker-python\n",
    "# For example, here's several helpful packages to load\n",
    "\n",
    "import numpy as np # linear algebra\n",
    "import pandas as pd # data processing, CSV file I/O (e.g. pd.read_csv)\n",
    "\n",
    "# Input data files are available in the read-only \"../input/\" directory\n",
    "# For example, running this (by clicking run or pressing Shift+Enter) will list all files under the input directory\n",
    "\n",
    "import os\n",
    "for dirname, _, filenames in os.walk('/kaggle/input'):\n",
    "    for filename in filenames:\n",
    "        print(os.path.join(dirname, filename))\n",
    "\n",
    "# You can write up to 20GB to the current directory (/kaggle/working/) that gets preserved as output when you create a version using \"Save & Run All\" \n",
    "# You can also write temporary files to /kaggle/temp/, but they won't be saved outside of the current session"
   ]
  },
  {
   "cell_type": "code",
   "execution_count": 2,
   "id": "73373b35",
   "metadata": {
    "execution": {
     "iopub.execute_input": "2025-08-01T15:30:49.635434Z",
     "iopub.status.busy": "2025-08-01T15:30:49.635064Z",
     "iopub.status.idle": "2025-08-01T15:30:59.214858Z",
     "shell.execute_reply": "2025-08-01T15:30:59.214204Z"
    },
    "papermill": {
     "duration": 9.583424,
     "end_time": "2025-08-01T15:30:59.216234",
     "exception": false,
     "start_time": "2025-08-01T15:30:49.632810",
     "status": "completed"
    },
    "tags": []
   },
   "outputs": [],
   "source": [
    "import torch\n",
    "import torchvision\n",
    "from torchvision import transforms, datasets"
   ]
  },
  {
   "cell_type": "code",
   "execution_count": 3,
   "id": "8343be75",
   "metadata": {
    "execution": {
     "iopub.execute_input": "2025-08-01T15:30:59.221457Z",
     "iopub.status.busy": "2025-08-01T15:30:59.221114Z",
     "iopub.status.idle": "2025-08-01T15:31:04.596199Z",
     "shell.execute_reply": "2025-08-01T15:31:04.595408Z"
    },
    "papermill": {
     "duration": 5.379047,
     "end_time": "2025-08-01T15:31:04.597825",
     "exception": false,
     "start_time": "2025-08-01T15:30:59.218778",
     "status": "completed"
    },
    "tags": []
   },
   "outputs": [
    {
     "name": "stderr",
     "output_type": "stream",
     "text": [
      "100%|██████████| 9.91M/9.91M [00:00<00:00, 12.5MB/s]\n",
      "100%|██████████| 28.9k/28.9k [00:00<00:00, 341kB/s]\n",
      "100%|██████████| 1.65M/1.65M [00:00<00:00, 2.76MB/s]\n",
      "100%|██████████| 4.54k/4.54k [00:00<00:00, 5.62MB/s]\n"
     ]
    }
   ],
   "source": [
    "train = datasets.MNIST('/kaggle/working/', train = True, download = True, transform = transforms.Compose([transforms.ToTensor()]))\n",
    "\n",
    "\n",
    "test = datasets.MNIST('/kaggle/working/', train = False, download = True, transform = transforms.Compose([transforms.ToTensor()]))"
   ]
  },
  {
   "cell_type": "code",
   "execution_count": 4,
   "id": "e6213c21",
   "metadata": {
    "execution": {
     "iopub.execute_input": "2025-08-01T15:31:04.604218Z",
     "iopub.status.busy": "2025-08-01T15:31:04.603937Z",
     "iopub.status.idle": "2025-08-01T15:31:04.608547Z",
     "shell.execute_reply": "2025-08-01T15:31:04.607641Z"
    },
    "papermill": {
     "duration": 0.009376,
     "end_time": "2025-08-01T15:31:04.610109",
     "exception": false,
     "start_time": "2025-08-01T15:31:04.600733",
     "status": "completed"
    },
    "tags": []
   },
   "outputs": [],
   "source": [
    "trainset = torch.utils.data.DataLoader(train, batch_size = 10, shuffle = True)\n",
    "testset = torch.utils.data.DataLoader(test, batch_size = 10, shuffle = True)"
   ]
  },
  {
   "cell_type": "code",
   "execution_count": 5,
   "id": "c25430d7",
   "metadata": {
    "execution": {
     "iopub.execute_input": "2025-08-01T15:31:04.617513Z",
     "iopub.status.busy": "2025-08-01T15:31:04.617192Z",
     "iopub.status.idle": "2025-08-01T15:31:04.652136Z",
     "shell.execute_reply": "2025-08-01T15:31:04.651541Z"
    },
    "papermill": {
     "duration": 0.03984,
     "end_time": "2025-08-01T15:31:04.653644",
     "exception": false,
     "start_time": "2025-08-01T15:31:04.613804",
     "status": "completed"
    },
    "tags": []
   },
   "outputs": [
    {
     "name": "stdout",
     "output_type": "stream",
     "text": [
      "[tensor([[[[0., 0., 0.,  ..., 0., 0., 0.],\n",
      "          [0., 0., 0.,  ..., 0., 0., 0.],\n",
      "          [0., 0., 0.,  ..., 0., 0., 0.],\n",
      "          ...,\n",
      "          [0., 0., 0.,  ..., 0., 0., 0.],\n",
      "          [0., 0., 0.,  ..., 0., 0., 0.],\n",
      "          [0., 0., 0.,  ..., 0., 0., 0.]]],\n",
      "\n",
      "\n",
      "        [[[0., 0., 0.,  ..., 0., 0., 0.],\n",
      "          [0., 0., 0.,  ..., 0., 0., 0.],\n",
      "          [0., 0., 0.,  ..., 0., 0., 0.],\n",
      "          ...,\n",
      "          [0., 0., 0.,  ..., 0., 0., 0.],\n",
      "          [0., 0., 0.,  ..., 0., 0., 0.],\n",
      "          [0., 0., 0.,  ..., 0., 0., 0.]]],\n",
      "\n",
      "\n",
      "        [[[0., 0., 0.,  ..., 0., 0., 0.],\n",
      "          [0., 0., 0.,  ..., 0., 0., 0.],\n",
      "          [0., 0., 0.,  ..., 0., 0., 0.],\n",
      "          ...,\n",
      "          [0., 0., 0.,  ..., 0., 0., 0.],\n",
      "          [0., 0., 0.,  ..., 0., 0., 0.],\n",
      "          [0., 0., 0.,  ..., 0., 0., 0.]]],\n",
      "\n",
      "\n",
      "        ...,\n",
      "\n",
      "\n",
      "        [[[0., 0., 0.,  ..., 0., 0., 0.],\n",
      "          [0., 0., 0.,  ..., 0., 0., 0.],\n",
      "          [0., 0., 0.,  ..., 0., 0., 0.],\n",
      "          ...,\n",
      "          [0., 0., 0.,  ..., 0., 0., 0.],\n",
      "          [0., 0., 0.,  ..., 0., 0., 0.],\n",
      "          [0., 0., 0.,  ..., 0., 0., 0.]]],\n",
      "\n",
      "\n",
      "        [[[0., 0., 0.,  ..., 0., 0., 0.],\n",
      "          [0., 0., 0.,  ..., 0., 0., 0.],\n",
      "          [0., 0., 0.,  ..., 0., 0., 0.],\n",
      "          ...,\n",
      "          [0., 0., 0.,  ..., 0., 0., 0.],\n",
      "          [0., 0., 0.,  ..., 0., 0., 0.],\n",
      "          [0., 0., 0.,  ..., 0., 0., 0.]]],\n",
      "\n",
      "\n",
      "        [[[0., 0., 0.,  ..., 0., 0., 0.],\n",
      "          [0., 0., 0.,  ..., 0., 0., 0.],\n",
      "          [0., 0., 0.,  ..., 0., 0., 0.],\n",
      "          ...,\n",
      "          [0., 0., 0.,  ..., 0., 0., 0.],\n",
      "          [0., 0., 0.,  ..., 0., 0., 0.],\n",
      "          [0., 0., 0.,  ..., 0., 0., 0.]]]]), tensor([9, 1, 1, 4, 7, 8, 3, 6, 2, 5])]\n"
     ]
    }
   ],
   "source": [
    "for data in trainset:\n",
    "    print(data)\n",
    "    break"
   ]
  },
  {
   "cell_type": "code",
   "execution_count": 6,
   "id": "5306f07c",
   "metadata": {
    "execution": {
     "iopub.execute_input": "2025-08-01T15:31:04.660185Z",
     "iopub.status.busy": "2025-08-01T15:31:04.659968Z",
     "iopub.status.idle": "2025-08-01T15:31:04.665753Z",
     "shell.execute_reply": "2025-08-01T15:31:04.665150Z"
    },
    "papermill": {
     "duration": 0.010293,
     "end_time": "2025-08-01T15:31:04.666854",
     "exception": false,
     "start_time": "2025-08-01T15:31:04.656561",
     "status": "completed"
    },
    "tags": []
   },
   "outputs": [
    {
     "data": {
      "text/plain": [
       "tensor(9)"
      ]
     },
     "execution_count": 6,
     "metadata": {},
     "output_type": "execute_result"
    }
   ],
   "source": [
    "x,y = data[0][0], data[1][0]\n",
    "y"
   ]
  },
  {
   "cell_type": "code",
   "execution_count": 7,
   "id": "efee1c20",
   "metadata": {
    "execution": {
     "iopub.execute_input": "2025-08-01T15:31:04.673072Z",
     "iopub.status.busy": "2025-08-01T15:31:04.672870Z",
     "iopub.status.idle": "2025-08-01T15:31:04.677040Z",
     "shell.execute_reply": "2025-08-01T15:31:04.676094Z"
    },
    "papermill": {
     "duration": 0.008666,
     "end_time": "2025-08-01T15:31:04.678404",
     "exception": false,
     "start_time": "2025-08-01T15:31:04.669738",
     "status": "completed"
    },
    "tags": []
   },
   "outputs": [
    {
     "name": "stdout",
     "output_type": "stream",
     "text": [
      "torch.Size([1, 28, 28])\n"
     ]
    }
   ],
   "source": [
    "import matplotlib.pyplot as plt\n",
    "print(data[0][0].shape)"
   ]
  },
  {
   "cell_type": "code",
   "execution_count": 8,
   "id": "9dc4daa8",
   "metadata": {
    "execution": {
     "iopub.execute_input": "2025-08-01T15:31:04.684687Z",
     "iopub.status.busy": "2025-08-01T15:31:04.684456Z",
     "iopub.status.idle": "2025-08-01T15:31:04.869859Z",
     "shell.execute_reply": "2025-08-01T15:31:04.869066Z"
    },
    "papermill": {
     "duration": 0.190054,
     "end_time": "2025-08-01T15:31:04.871412",
     "exception": false,
     "start_time": "2025-08-01T15:31:04.681358",
     "status": "completed"
    },
    "tags": []
   },
   "outputs": [
    {
     "data": {
      "image/png": "[encoded data removed]",
      "text/plain": [
       "<Figure size 640x480 with 1 Axes>"
      ]
     },
     "metadata": {},
     "output_type": "display_data"
    }
   ],
   "source": [
    "plt.imshow(data[0][0].squeeze(), cmap=\"gray\")\n",
    "plt.title(f\"Label: {data[1][0]}\")\n",
    "plt.show()"
   ]
  },
  {
   "cell_type": "code",
   "execution_count": 9,
   "id": "15a26c8b",
   "metadata": {
    "execution": {
     "iopub.execute_input": "2025-08-01T15:31:04.878611Z",
     "iopub.status.busy": "2025-08-01T15:31:04.878259Z",
     "iopub.status.idle": "2025-08-01T15:31:10.333407Z",
     "shell.execute_reply": "2025-08-01T15:31:10.332488Z"
    },
    "papermill": {
     "duration": 5.460018,
     "end_time": "2025-08-01T15:31:10.334621",
     "exception": false,
     "start_time": "2025-08-01T15:31:04.874603",
     "status": "completed"
    },
    "tags": []
   },
   "outputs": [
    {
     "name": "stdout",
     "output_type": "stream",
     "text": [
      "counter dictionary {0: 5923, 1: 6742, 2: 5958, 3: 6131, 4: 5842, 5: 5421, 6: 5918, 7: 6265, 8: 5851, 9: 5949}\n",
      "0: 9.871666666666666\n",
      "1: 11.236666666666666\n",
      "2: 9.93\n",
      "3: 10.218333333333334\n",
      "4: 9.736666666666666\n",
      "5: 9.035\n",
      "6: 9.863333333333333\n",
      "7: 10.441666666666666\n",
      "8: 9.751666666666667\n",
      "9: 9.915000000000001\n"
     ]
    }
   ],
   "source": [
    "# TO SEE IF THE DATASET IS BALANCED\n",
    "\n",
    "total = 0\n",
    "counter_dict = {0:0,1:0,2:0,3:0,4:0,5:0,6:0,7:0,8:0,9:0}\n",
    "for data in trainset:\n",
    "    Xs,ys = data\n",
    "    for y in ys:\n",
    "        counter_dict[int(y)] += 1\n",
    "        total += 1\n",
    "\n",
    "print(\"counter dictionary\",counter_dict)\n",
    "for i in counter_dict:\n",
    "    print(f'{i}: {counter_dict[i]/total*100}')"
   ]
  },
  {
   "cell_type": "code",
   "execution_count": null,
   "id": "80446a3d",
   "metadata": {
    "papermill": {
     "duration": 0.002877,
     "end_time": "2025-08-01T15:31:10.340781",
     "exception": false,
     "start_time": "2025-08-01T15:31:10.337904",
     "status": "completed"
    },
    "tags": []
   },
   "outputs": [],
   "source": []
  }
 ],
 "metadata": {
  "kaggle": {
   "accelerator": "none",
   "dataSources": [],
   "dockerImageVersionId": 31089,
   "isGpuEnabled": false,
   "isInternetEnabled": true,
   "language": "python",
   "sourceType": "notebook"
  },
  "kernelspec": {
   "display_name": "Python 3",
   "language": "python",
   "name": "python3"
  },
  "language_info": {
   "codemirror_mode": {
    "name": "ipython",
    "version": 3
   },
   "file_extension": ".py",
   "mimetype": "text/x-python",
   "name": "python",
   "nbconvert_exporter": "python",
   "pygments_lexer": "ipython3",
   "version": "3.11.13"
  },
  "papermill": {
   "default_parameters": {},
   "duration": 27.876569,
   "end_time": "2025-08-01T15:31:11.966032",
   "environment_variables": {},
   "exception": null,
   "input_path": "__notebook__.ipynb",
   "output_path": "__notebook__.ipynb",
   "parameters": {},
   "start_time": "2025-08-01T15:30:44.089463",
   "version": "2.6.0"
  }
 },
 "nbformat": 4,
 "nbformat_minor": 5
}
