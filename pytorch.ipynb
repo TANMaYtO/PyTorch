{
 "cells": [
  {
   "cell_type": "code",
   "execution_count": 1,
   "id": "9f48faec",
   "metadata": {
    "_cell_guid": "b1076dfc-b9ad-4769-8c92-a6c4dae69d19",
    "_uuid": "8f2839f25d086af736a60e9eeb907d3b93b6e0e5",
    "execution": {
     "iopub.execute_input": "2025-08-01T15:32:11.525917Z",
     "iopub.status.busy": "2025-08-01T15:32:11.525518Z",
     "iopub.status.idle": "2025-08-01T15:32:13.494715Z",
     "shell.execute_reply": "2025-08-01T15:32:13.493615Z"
    },
    "papermill": {
     "duration": 1.975978,
     "end_time": "2025-08-01T15:32:13.497056",
     "exception": false,
     "start_time": "2025-08-01T15:32:11.521078",
     "status": "completed"
    },
    "tags": []
   },
   "outputs": [],
   "source": [
    "# This Python 3 environment comes with many helpful analytics libraries installed\n",
    "# It is defined by the kaggle/python Docker image: https://github.com/kaggle/docker-python\n",
    "# For example, here's several helpful packages to load\n",
    "\n",
    "import numpy as np # linear algebra\n",
    "import pandas as pd # data processing, CSV file I/O (e.g. pd.read_csv)\n",
    "\n",
    "# Input data files are available in the read-only \"../input/\" directory\n",
    "# For example, running this (by clicking run or pressing Shift+Enter) will list all files under the input directory\n",
    "\n",
    "import os\n",
    "for dirname, _, filenames in os.walk('/kaggle/input'):\n",
    "    for filename in filenames:\n",
    "        print(os.path.join(dirname, filename))\n",
    "\n",
    "# You can write up to 20GB to the current directory (/kaggle/working/) that gets preserved as output when you create a version using \"Save & Run All\" \n",
    "# You can also write temporary files to /kaggle/temp/, but they won't be saved outside of the current session"
   ]
  },
  {
   "cell_type": "code",
   "execution_count": 2,
   "id": "31aa603b",
   "metadata": {
    "execution": {
     "iopub.execute_input": "2025-08-01T15:32:13.505964Z",
     "iopub.status.busy": "2025-08-01T15:32:13.505536Z",
     "iopub.status.idle": "2025-08-01T15:32:25.993917Z",
     "shell.execute_reply": "2025-08-01T15:32:25.992963Z"
    },
    "papermill": {
     "duration": 12.494565,
     "end_time": "2025-08-01T15:32:25.995678",
     "exception": false,
     "start_time": "2025-08-01T15:32:13.501113",
     "status": "completed"
    },
    "tags": []
   },
   "outputs": [],
   "source": [
    "import torch\n",
    "import torchvision\n",
    "from torchvision import transforms, datasets"
   ]
  },
  {
   "cell_type": "code",
   "execution_count": 3,
   "id": "03138a56",
   "metadata": {
    "execution": {
     "iopub.execute_input": "2025-08-01T15:32:26.005460Z",
     "iopub.status.busy": "2025-08-01T15:32:26.003343Z",
     "iopub.status.idle": "2025-08-01T15:32:28.106682Z",
     "shell.execute_reply": "2025-08-01T15:32:28.105579Z"
    },
    "papermill": {
     "duration": 2.109763,
     "end_time": "2025-08-01T15:32:28.108367",
     "exception": false,
     "start_time": "2025-08-01T15:32:25.998604",
     "status": "completed"
    },
    "tags": []
   },
   "outputs": [
    {
     "name": "stderr",
     "output_type": "stream",
     "text": [
      "100%|██████████| 9.91M/9.91M [00:00<00:00, 59.0MB/s]\n",
      "100%|██████████| 28.9k/28.9k [00:00<00:00, 1.81MB/s]\n",
      "100%|██████████| 1.65M/1.65M [00:00<00:00, 14.5MB/s]\n",
      "100%|██████████| 4.54k/4.54k [00:00<00:00, 4.14MB/s]\n"
     ]
    }
   ],
   "source": [
    "train = datasets.MNIST('/kaggle/working/', train = True, download = True, transform = transforms.Compose([transforms.ToTensor()]))\n",
    "\n",
    "\n",
    "test = datasets.MNIST('/kaggle/working/', train = False, download = True, transform = transforms.Compose([transforms.ToTensor()]))"
   ]
  },
  {
   "cell_type": "code",
   "execution_count": 4,
   "id": "e0a756b7",
   "metadata": {
    "execution": {
     "iopub.execute_input": "2025-08-01T15:32:28.118459Z",
     "iopub.status.busy": "2025-08-01T15:32:28.118041Z",
     "iopub.status.idle": "2025-08-01T15:32:28.123946Z",
     "shell.execute_reply": "2025-08-01T15:32:28.122821Z"
    },
    "papermill": {
     "duration": 0.012612,
     "end_time": "2025-08-01T15:32:28.125485",
     "exception": false,
     "start_time": "2025-08-01T15:32:28.112873",
     "status": "completed"
    },
    "tags": []
   },
   "outputs": [],
   "source": [
    "trainset = torch.utils.data.DataLoader(train, batch_size = 10, shuffle = True)\n",
    "testset = torch.utils.data.DataLoader(test, batch_size = 10, shuffle = True)"
   ]
  },
  {
   "cell_type": "code",
   "execution_count": 5,
   "id": "23be0f96",
   "metadata": {
    "execution": {
     "iopub.execute_input": "2025-08-01T15:32:28.134566Z",
     "iopub.status.busy": "2025-08-01T15:32:28.134153Z",
     "iopub.status.idle": "2025-08-01T15:32:28.184497Z",
     "shell.execute_reply": "2025-08-01T15:32:28.183283Z"
    },
    "papermill": {
     "duration": 0.057078,
     "end_time": "2025-08-01T15:32:28.186459",
     "exception": false,
     "start_time": "2025-08-01T15:32:28.129381",
     "status": "completed"
    },
    "tags": []
   },
   "outputs": [
    {
     "name": "stdout",
     "output_type": "stream",
     "text": [
      "[tensor([[[[0., 0., 0.,  ..., 0., 0., 0.],\n",
      "          [0., 0., 0.,  ..., 0., 0., 0.],\n",
      "          [0., 0., 0.,  ..., 0., 0., 0.],\n",
      "          ...,\n",
      "          [0., 0., 0.,  ..., 0., 0., 0.],\n",
      "          [0., 0., 0.,  ..., 0., 0., 0.],\n",
      "          [0., 0., 0.,  ..., 0., 0., 0.]]],\n",
      "\n",
      "\n",
      "        [[[0., 0., 0.,  ..., 0., 0., 0.],\n",
      "          [0., 0., 0.,  ..., 0., 0., 0.],\n",
      "          [0., 0., 0.,  ..., 0., 0., 0.],\n",
      "          ...,\n",
      "          [0., 0., 0.,  ..., 0., 0., 0.],\n",
      "          [0., 0., 0.,  ..., 0., 0., 0.],\n",
      "          [0., 0., 0.,  ..., 0., 0., 0.]]],\n",
      "\n",
      "\n",
      "        [[[0., 0., 0.,  ..., 0., 0., 0.],\n",
      "          [0., 0., 0.,  ..., 0., 0., 0.],\n",
      "          [0., 0., 0.,  ..., 0., 0., 0.],\n",
      "          ...,\n",
      "          [0., 0., 0.,  ..., 0., 0., 0.],\n",
      "          [0., 0., 0.,  ..., 0., 0., 0.],\n",
      "          [0., 0., 0.,  ..., 0., 0., 0.]]],\n",
      "\n",
      "\n",
      "        ...,\n",
      "\n",
      "\n",
      "        [[[0., 0., 0.,  ..., 0., 0., 0.],\n",
      "          [0., 0., 0.,  ..., 0., 0., 0.],\n",
      "          [0., 0., 0.,  ..., 0., 0., 0.],\n",
      "          ...,\n",
      "          [0., 0., 0.,  ..., 0., 0., 0.],\n",
      "          [0., 0., 0.,  ..., 0., 0., 0.],\n",
      "          [0., 0., 0.,  ..., 0., 0., 0.]]],\n",
      "\n",
      "\n",
      "        [[[0., 0., 0.,  ..., 0., 0., 0.],\n",
      "          [0., 0., 0.,  ..., 0., 0., 0.],\n",
      "          [0., 0., 0.,  ..., 0., 0., 0.],\n",
      "          ...,\n",
      "          [0., 0., 0.,  ..., 0., 0., 0.],\n",
      "          [0., 0., 0.,  ..., 0., 0., 0.],\n",
      "          [0., 0., 0.,  ..., 0., 0., 0.]]],\n",
      "\n",
      "\n",
      "        [[[0., 0., 0.,  ..., 0., 0., 0.],\n",
      "          [0., 0., 0.,  ..., 0., 0., 0.],\n",
      "          [0., 0., 0.,  ..., 0., 0., 0.],\n",
      "          ...,\n",
      "          [0., 0., 0.,  ..., 0., 0., 0.],\n",
      "          [0., 0., 0.,  ..., 0., 0., 0.],\n",
      "          [0., 0., 0.,  ..., 0., 0., 0.]]]]), tensor([4, 9, 8, 4, 2, 4, 4, 1, 4, 3])]\n"
     ]
    }
   ],
   "source": [
    "for data in trainset:\n",
    "    print(data)\n",
    "    break"
   ]
  },
  {
   "cell_type": "code",
   "execution_count": 6,
   "id": "629b44e9",
   "metadata": {
    "execution": {
     "iopub.execute_input": "2025-08-01T15:32:28.196736Z",
     "iopub.status.busy": "2025-08-01T15:32:28.196319Z",
     "iopub.status.idle": "2025-08-01T15:32:28.206012Z",
     "shell.execute_reply": "2025-08-01T15:32:28.204610Z"
    },
    "papermill": {
     "duration": 0.017146,
     "end_time": "2025-08-01T15:32:28.208041",
     "exception": false,
     "start_time": "2025-08-01T15:32:28.190895",
     "status": "completed"
    },
    "tags": []
   },
   "outputs": [
    {
     "data": {
      "text/plain": [
       "tensor(4)"
      ]
     },
     "execution_count": 6,
     "metadata": {},
     "output_type": "execute_result"
    }
   ],
   "source": [
    "x,y = data[0][0], data[1][0]\n",
    "y"
   ]
  },
  {
   "cell_type": "code",
   "execution_count": 7,
   "id": "301866d0",
   "metadata": {
    "execution": {
     "iopub.execute_input": "2025-08-01T15:32:28.217645Z",
     "iopub.status.busy": "2025-08-01T15:32:28.217231Z",
     "iopub.status.idle": "2025-08-01T15:32:28.223527Z",
     "shell.execute_reply": "2025-08-01T15:32:28.222327Z"
    },
    "papermill": {
     "duration": 0.013337,
     "end_time": "2025-08-01T15:32:28.225507",
     "exception": false,
     "start_time": "2025-08-01T15:32:28.212170",
     "status": "completed"
    },
    "tags": []
   },
   "outputs": [
    {
     "name": "stdout",
     "output_type": "stream",
     "text": [
      "torch.Size([1, 28, 28])\n"
     ]
    }
   ],
   "source": [
    "import matplotlib.pyplot as plt\n",
    "print(data[0][0].shape)"
   ]
  },
  {
   "cell_type": "code",
   "execution_count": 8,
   "id": "11413539",
   "metadata": {
    "execution": {
     "iopub.execute_input": "2025-08-01T15:32:28.235138Z",
     "iopub.status.busy": "2025-08-01T15:32:28.234749Z",
     "iopub.status.idle": "2025-08-01T15:32:28.540598Z",
     "shell.execute_reply": "2025-08-01T15:32:28.539477Z"
    },
    "papermill": {
     "duration": 0.312691,
     "end_time": "2025-08-01T15:32:28.542383",
     "exception": false,
     "start_time": "2025-08-01T15:32:28.229692",
     "status": "completed"
    },
    "tags": []
   },
   "outputs": [
    {
     "data": {
      "image/png": "[encoded data removed]",
      "text/plain": [
       "<Figure size 640x480 with 1 Axes>"
      ]
     },
     "metadata": {},
     "output_type": "display_data"
    }
   ],
   "source": [
    "plt.imshow(data[0][0].squeeze(), cmap=\"gray\")\n",
    "plt.title(f\"Label: {data[1][0]}\")\n",
    "plt.show()"
   ]
  },
  {
   "cell_type": "code",
   "execution_count": 9,
   "id": "5f12108f",
   "metadata": {
    "execution": {
     "iopub.execute_input": "2025-08-01T15:32:28.552702Z",
     "iopub.status.busy": "2025-08-01T15:32:28.552289Z",
     "iopub.status.idle": "2025-08-01T15:32:35.786082Z",
     "shell.execute_reply": "2025-08-01T15:32:35.784894Z"
    },
    "papermill": {
     "duration": 7.240924,
     "end_time": "2025-08-01T15:32:35.787820",
     "exception": false,
     "start_time": "2025-08-01T15:32:28.546896",
     "status": "completed"
    },
    "tags": []
   },
   "outputs": [
    {
     "name": "stdout",
     "output_type": "stream",
     "text": [
      "counter dictionary {0: 5923, 1: 6742, 2: 5958, 3: 6131, 4: 5842, 5: 5421, 6: 5918, 7: 6265, 8: 5851, 9: 5949}\n",
      "0: 9.871666666666666\n",
      "1: 11.236666666666666\n",
      "2: 9.93\n",
      "3: 10.218333333333334\n",
      "4: 9.736666666666666\n",
      "5: 9.035\n",
      "6: 9.863333333333333\n",
      "7: 10.441666666666666\n",
      "8: 9.751666666666667\n",
      "9: 9.915000000000001\n"
     ]
    }
   ],
   "source": [
    "# TO SEE IF THE DATASET IS BALANCED\n",
    "\n",
    "total = 0\n",
    "counter_dict = {0:0,1:0,2:0,3:0,4:0,5:0,6:0,7:0,8:0,9:0}\n",
    "for data in trainset:\n",
    "    Xs,ys = data\n",
    "    for y in ys:\n",
    "        counter_dict[int(y)] += 1\n",
    "        total += 1\n",
    "\n",
    "print(\"counter dictionary\",counter_dict)\n",
    "for i in counter_dict:\n",
    "    print(f'{i}: {counter_dict[i]/total*100}')"
   ]
  },
  {
   "cell_type": "code",
   "execution_count": 10,
   "id": "044804bc",
   "metadata": {
    "execution": {
     "iopub.execute_input": "2025-08-01T15:32:35.799284Z",
     "iopub.status.busy": "2025-08-01T15:32:35.798496Z",
     "iopub.status.idle": "2025-08-01T15:32:35.979071Z",
     "shell.execute_reply": "2025-08-01T15:32:35.977863Z"
    },
    "papermill": {
     "duration": 0.18801,
     "end_time": "2025-08-01T15:32:35.980950",
     "exception": false,
     "start_time": "2025-08-01T15:32:35.792940",
     "status": "completed"
    },
    "tags": []
   },
   "outputs": [
    {
     "data": {
      "image/png": "[encoded data removed]",
      "text/plain": [
       "<Figure size 640x480 with 1 Axes>"
      ]
     },
     "metadata": {},
     "output_type": "display_data"
    }
   ],
   "source": [
    "# to visualize the balance in dataset\n",
    "\n",
    "plt.bar(counter_dict.keys(), counter_dict.values())\n",
    "plt.xlabel(\"Digit\")\n",
    "plt.ylabel(\"Frequency\")\n",
    "plt.title(\"MNIST Digit Distribution\")\n",
    "plt.show()"
   ]
  },
  {
   "cell_type": "code",
   "execution_count": null,
   "id": "1e8fdbf1",
   "metadata": {
    "papermill": {
     "duration": 0.004373,
     "end_time": "2025-08-01T15:32:35.990389",
     "exception": false,
     "start_time": "2025-08-01T15:32:35.986016",
     "status": "completed"
    },
    "tags": []
   },
   "outputs": [],
   "source": []
  }
 ],
 "metadata": {
  "kaggle": {
   "accelerator": "none",
   "dataSources": [],
   "dockerImageVersionId": 31089,
   "isGpuEnabled": false,
   "isInternetEnabled": true,
   "language": "python",
   "sourceType": "notebook"
  },
  "kernelspec": {
   "display_name": "Python 3",
   "language": "python",
   "name": "python3"
  },
  "language_info": {
   "codemirror_mode": {
    "name": "ipython",
    "version": 3
   },
   "file_extension": ".py",
   "mimetype": "text/x-python",
   "name": "python",
   "nbconvert_exporter": "python",
   "pygments_lexer": "ipython3",
   "version": "3.11.13"
  },
  "papermill": {
   "default_parameters": {},
   "duration": 32.18227,
   "end_time": "2025-08-01T15:32:38.686940",
   "environment_variables": {},
   "exception": null,
   "input_path": "__notebook__.ipynb",
   "output_path": "__notebook__.ipynb",
   "parameters": {},
   "start_time": "2025-08-01T15:32:06.504670",
   "version": "2.6.0"
  }
 },
 "nbformat": 4,
 "nbformat_minor": 5
}
