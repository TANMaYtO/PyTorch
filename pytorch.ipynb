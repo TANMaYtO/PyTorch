{
 "cells": [
  {
   "cell_type": "code",
   "execution_count": 1,
   "id": "65b57d0d",
   "metadata": {
    "_cell_guid": "b1076dfc-b9ad-4769-8c92-a6c4dae69d19",
    "_uuid": "8f2839f25d086af736a60e9eeb907d3b93b6e0e5",
    "execution": {
     "iopub.execute_input": "2025-08-01T15:07:45.758530Z",
     "iopub.status.busy": "2025-08-01T15:07:45.758174Z",
     "iopub.status.idle": "2025-08-01T15:07:47.813712Z",
     "shell.execute_reply": "2025-08-01T15:07:47.812935Z"
    },
    "papermill": {
     "duration": 2.061441,
     "end_time": "2025-08-01T15:07:47.815447",
     "exception": false,
     "start_time": "2025-08-01T15:07:45.754006",
     "status": "completed"
    },
    "tags": []
   },
   "outputs": [],
   "source": [
    "# This Python 3 environment comes with many helpful analytics libraries installed\n",
    "# It is defined by the kaggle/python Docker image: https://github.com/kaggle/docker-python\n",
    "# For example, here's several helpful packages to load\n",
    "\n",
    "import numpy as np # linear algebra\n",
    "import pandas as pd # data processing, CSV file I/O (e.g. pd.read_csv)\n",
    "\n",
    "# Input data files are available in the read-only \"../input/\" directory\n",
    "# For example, running this (by clicking run or pressing Shift+Enter) will list all files under the input directory\n",
    "\n",
    "import os\n",
    "for dirname, _, filenames in os.walk('/kaggle/input'):\n",
    "    for filename in filenames:\n",
    "        print(os.path.join(dirname, filename))\n",
    "\n",
    "# You can write up to 20GB to the current directory (/kaggle/working/) that gets preserved as output when you create a version using \"Save & Run All\" \n",
    "# You can also write temporary files to /kaggle/temp/, but they won't be saved outside of the current session"
   ]
  },
  {
   "cell_type": "code",
   "execution_count": 2,
   "id": "d474bf34",
   "metadata": {
    "execution": {
     "iopub.execute_input": "2025-08-01T15:07:47.822107Z",
     "iopub.status.busy": "2025-08-01T15:07:47.821683Z",
     "iopub.status.idle": "2025-08-01T15:08:00.356030Z",
     "shell.execute_reply": "2025-08-01T15:08:00.355158Z"
    },
    "papermill": {
     "duration": 12.539607,
     "end_time": "2025-08-01T15:08:00.357992",
     "exception": false,
     "start_time": "2025-08-01T15:07:47.818385",
     "status": "completed"
    },
    "tags": []
   },
   "outputs": [],
   "source": [
    "import torch\n",
    "import torchvision\n",
    "from torchvision import transforms, datasets"
   ]
  },
  {
   "cell_type": "code",
   "execution_count": 3,
   "id": "2b632793",
   "metadata": {
    "execution": {
     "iopub.execute_input": "2025-08-01T15:08:00.364601Z",
     "iopub.status.busy": "2025-08-01T15:08:00.364126Z",
     "iopub.status.idle": "2025-08-01T15:08:02.198122Z",
     "shell.execute_reply": "2025-08-01T15:08:02.197130Z"
    },
    "papermill": {
     "duration": 1.839405,
     "end_time": "2025-08-01T15:08:02.200125",
     "exception": false,
     "start_time": "2025-08-01T15:08:00.360720",
     "status": "completed"
    },
    "tags": []
   },
   "outputs": [
    {
     "name": "stderr",
     "output_type": "stream",
     "text": [
      "100%|██████████| 9.91M/9.91M [00:00<00:00, 54.3MB/s]\n",
      "100%|██████████| 28.9k/28.9k [00:00<00:00, 1.54MB/s]\n",
      "100%|██████████| 1.65M/1.65M [00:00<00:00, 14.5MB/s]\n",
      "100%|██████████| 4.54k/4.54k [00:00<00:00, 5.39MB/s]\n"
     ]
    }
   ],
   "source": [
    "train = datasets.MNIST('/kaggle/working/', train = True, download = True, transform = transforms.Compose([transforms.ToTensor()]))\n",
    "\n",
    "\n",
    "test = datasets.MNIST('/kaggle/working/', train = False, download = True, transform = transforms.Compose([transforms.ToTensor()]))"
   ]
  },
  {
   "cell_type": "code",
   "execution_count": 4,
   "id": "514dd153",
   "metadata": {
    "execution": {
     "iopub.execute_input": "2025-08-01T15:08:02.209322Z",
     "iopub.status.busy": "2025-08-01T15:08:02.208565Z",
     "iopub.status.idle": "2025-08-01T15:08:02.214412Z",
     "shell.execute_reply": "2025-08-01T15:08:02.213133Z"
    },
    "papermill": {
     "duration": 0.012045,
     "end_time": "2025-08-01T15:08:02.216107",
     "exception": false,
     "start_time": "2025-08-01T15:08:02.204062",
     "status": "completed"
    },
    "tags": []
   },
   "outputs": [],
   "source": [
    "trainset = torch.utils.data.DataLoader(train, batch_size = 10, shuffle = True)\n",
    "testset = torch.utils.data.DataLoader(test, batch_size = 10, shuffle = True)"
   ]
  },
  {
   "cell_type": "code",
   "execution_count": 5,
   "id": "f7c75c53",
   "metadata": {
    "execution": {
     "iopub.execute_input": "2025-08-01T15:08:02.223505Z",
     "iopub.status.busy": "2025-08-01T15:08:02.223136Z",
     "iopub.status.idle": "2025-08-01T15:08:02.268086Z",
     "shell.execute_reply": "2025-08-01T15:08:02.266829Z"
    },
    "papermill": {
     "duration": 0.05072,
     "end_time": "2025-08-01T15:08:02.269914",
     "exception": false,
     "start_time": "2025-08-01T15:08:02.219194",
     "status": "completed"
    },
    "tags": []
   },
   "outputs": [
    {
     "name": "stdout",
     "output_type": "stream",
     "text": [
      "[tensor([[[[0., 0., 0.,  ..., 0., 0., 0.],\n",
      "          [0., 0., 0.,  ..., 0., 0., 0.],\n",
      "          [0., 0., 0.,  ..., 0., 0., 0.],\n",
      "          ...,\n",
      "          [0., 0., 0.,  ..., 0., 0., 0.],\n",
      "          [0., 0., 0.,  ..., 0., 0., 0.],\n",
      "          [0., 0., 0.,  ..., 0., 0., 0.]]],\n",
      "\n",
      "\n",
      "        [[[0., 0., 0.,  ..., 0., 0., 0.],\n",
      "          [0., 0., 0.,  ..., 0., 0., 0.],\n",
      "          [0., 0., 0.,  ..., 0., 0., 0.],\n",
      "          ...,\n",
      "          [0., 0., 0.,  ..., 0., 0., 0.],\n",
      "          [0., 0., 0.,  ..., 0., 0., 0.],\n",
      "          [0., 0., 0.,  ..., 0., 0., 0.]]],\n",
      "\n",
      "\n",
      "        [[[0., 0., 0.,  ..., 0., 0., 0.],\n",
      "          [0., 0., 0.,  ..., 0., 0., 0.],\n",
      "          [0., 0., 0.,  ..., 0., 0., 0.],\n",
      "          ...,\n",
      "          [0., 0., 0.,  ..., 0., 0., 0.],\n",
      "          [0., 0., 0.,  ..., 0., 0., 0.],\n",
      "          [0., 0., 0.,  ..., 0., 0., 0.]]],\n",
      "\n",
      "\n",
      "        ...,\n",
      "\n",
      "\n",
      "        [[[0., 0., 0.,  ..., 0., 0., 0.],\n",
      "          [0., 0., 0.,  ..., 0., 0., 0.],\n",
      "          [0., 0., 0.,  ..., 0., 0., 0.],\n",
      "          ...,\n",
      "          [0., 0., 0.,  ..., 0., 0., 0.],\n",
      "          [0., 0., 0.,  ..., 0., 0., 0.],\n",
      "          [0., 0., 0.,  ..., 0., 0., 0.]]],\n",
      "\n",
      "\n",
      "        [[[0., 0., 0.,  ..., 0., 0., 0.],\n",
      "          [0., 0., 0.,  ..., 0., 0., 0.],\n",
      "          [0., 0., 0.,  ..., 0., 0., 0.],\n",
      "          ...,\n",
      "          [0., 0., 0.,  ..., 0., 0., 0.],\n",
      "          [0., 0., 0.,  ..., 0., 0., 0.],\n",
      "          [0., 0., 0.,  ..., 0., 0., 0.]]],\n",
      "\n",
      "\n",
      "        [[[0., 0., 0.,  ..., 0., 0., 0.],\n",
      "          [0., 0., 0.,  ..., 0., 0., 0.],\n",
      "          [0., 0., 0.,  ..., 0., 0., 0.],\n",
      "          ...,\n",
      "          [0., 0., 0.,  ..., 0., 0., 0.],\n",
      "          [0., 0., 0.,  ..., 0., 0., 0.],\n",
      "          [0., 0., 0.,  ..., 0., 0., 0.]]]]), tensor([3, 5, 1, 3, 2, 1, 9, 4, 3, 4])]\n"
     ]
    }
   ],
   "source": [
    "for data in trainset:\n",
    "    print(data)\n",
    "    break"
   ]
  },
  {
   "cell_type": "code",
   "execution_count": 6,
   "id": "b8971607",
   "metadata": {
    "execution": {
     "iopub.execute_input": "2025-08-01T15:08:02.277606Z",
     "iopub.status.busy": "2025-08-01T15:08:02.277281Z",
     "iopub.status.idle": "2025-08-01T15:08:02.285469Z",
     "shell.execute_reply": "2025-08-01T15:08:02.284494Z"
    },
    "papermill": {
     "duration": 0.013893,
     "end_time": "2025-08-01T15:08:02.287106",
     "exception": false,
     "start_time": "2025-08-01T15:08:02.273213",
     "status": "completed"
    },
    "tags": []
   },
   "outputs": [
    {
     "data": {
      "text/plain": [
       "tensor(3)"
      ]
     },
     "execution_count": 6,
     "metadata": {},
     "output_type": "execute_result"
    }
   ],
   "source": [
    "x,y = data[0][0], data[1][0]\n",
    "y"
   ]
  },
  {
   "cell_type": "code",
   "execution_count": 7,
   "id": "1051dce8",
   "metadata": {
    "execution": {
     "iopub.execute_input": "2025-08-01T15:08:02.294789Z",
     "iopub.status.busy": "2025-08-01T15:08:02.294485Z",
     "iopub.status.idle": "2025-08-01T15:08:02.299849Z",
     "shell.execute_reply": "2025-08-01T15:08:02.298826Z"
    },
    "papermill": {
     "duration": 0.010785,
     "end_time": "2025-08-01T15:08:02.301280",
     "exception": false,
     "start_time": "2025-08-01T15:08:02.290495",
     "status": "completed"
    },
    "tags": []
   },
   "outputs": [
    {
     "name": "stdout",
     "output_type": "stream",
     "text": [
      "torch.Size([1, 28, 28])\n"
     ]
    }
   ],
   "source": [
    "import matplotlib.pyplot as plt\n",
    "print(data[0][0].shape)"
   ]
  },
  {
   "cell_type": "code",
   "execution_count": 8,
   "id": "b4a5f274",
   "metadata": {
    "execution": {
     "iopub.execute_input": "2025-08-01T15:08:02.309289Z",
     "iopub.status.busy": "2025-08-01T15:08:02.308967Z",
     "iopub.status.idle": "2025-08-01T15:08:02.575915Z",
     "shell.execute_reply": "2025-08-01T15:08:02.574990Z"
    },
    "papermill": {
     "duration": 0.272974,
     "end_time": "2025-08-01T15:08:02.577718",
     "exception": false,
     "start_time": "2025-08-01T15:08:02.304744",
     "status": "completed"
    },
    "tags": []
   },
   "outputs": [
    {
     "data": {
      "text/plain": [
       "<matplotlib.image.AxesImage at 0x7cff3254fe10>"
      ]
     },
     "execution_count": 8,
     "metadata": {},
     "output_type": "execute_result"
    },
    {
     "data": {
      "image/png": "[encoded data removed]",
      "text/plain": [
       "<Figure size 640x480 with 1 Axes>"
      ]
     },
     "metadata": {},
     "output_type": "display_data"
    }
   ],
   "source": [
    "plt.imshow(data[0][0].view(28,28))"
   ]
  },
  {
   "cell_type": "code",
   "execution_count": null,
   "id": "fbd5b53c",
   "metadata": {
    "papermill": {
     "duration": 0.003346,
     "end_time": "2025-08-01T15:08:02.584914",
     "exception": false,
     "start_time": "2025-08-01T15:08:02.581568",
     "status": "completed"
    },
    "tags": []
   },
   "outputs": [],
   "source": []
  }
 ],
 "metadata": {
  "kaggle": {
   "accelerator": "none",
   "dataSources": [],
   "dockerImageVersionId": 31089,
   "isGpuEnabled": false,
   "isInternetEnabled": true,
   "language": "python",
   "sourceType": "notebook"
  },
  "kernelspec": {
   "display_name": "Python 3",
   "language": "python",
   "name": "python3"
  },
  "language_info": {
   "codemirror_mode": {
    "name": "ipython",
    "version": 3
   },
   "file_extension": ".py",
   "mimetype": "text/x-python",
   "name": "python",
   "nbconvert_exporter": "python",
   "pygments_lexer": "ipython3",
   "version": "3.11.13"
  },
  "papermill": {
   "default_parameters": {},
   "duration": 24.243574,
   "end_time": "2025-08-01T15:08:04.937105",
   "environment_variables": {},
   "exception": null,
   "input_path": "__notebook__.ipynb",
   "output_path": "__notebook__.ipynb",
   "parameters": {},
   "start_time": "2025-08-01T15:07:40.693531",
   "version": "2.6.0"
  }
 },
 "nbformat": 4,
 "nbformat_minor": 5
}
