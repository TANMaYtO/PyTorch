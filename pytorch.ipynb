{
 "cells": [
  {
   "cell_type": "code",
   "execution_count": 1,
   "id": "4dcb2297",
   "metadata": {
    "_cell_guid": "b1076dfc-b9ad-4769-8c92-a6c4dae69d19",
    "_uuid": "8f2839f25d086af736a60e9eeb907d3b93b6e0e5",
    "execution": {
     "iopub.execute_input": "2025-08-01T14:55:44.121429Z",
     "iopub.status.busy": "2025-08-01T14:55:44.121125Z",
     "iopub.status.idle": "2025-08-01T14:55:45.903241Z",
     "shell.execute_reply": "2025-08-01T14:55:45.902544Z"
    },
    "papermill": {
     "duration": 1.787926,
     "end_time": "2025-08-01T14:55:45.905182",
     "exception": false,
     "start_time": "2025-08-01T14:55:44.117256",
     "status": "completed"
    },
    "tags": []
   },
   "outputs": [],
   "source": [
    "# This Python 3 environment comes with many helpful analytics libraries installed\n",
    "# It is defined by the kaggle/python Docker image: https://github.com/kaggle/docker-python\n",
    "# For example, here's several helpful packages to load\n",
    "\n",
    "import numpy as np # linear algebra\n",
    "import pandas as pd # data processing, CSV file I/O (e.g. pd.read_csv)\n",
    "\n",
    "# Input data files are available in the read-only \"../input/\" directory\n",
    "# For example, running this (by clicking run or pressing Shift+Enter) will list all files under the input directory\n",
    "\n",
    "import os\n",
    "for dirname, _, filenames in os.walk('/kaggle/input'):\n",
    "    for filename in filenames:\n",
    "        print(os.path.join(dirname, filename))\n",
    "\n",
    "# You can write up to 20GB to the current directory (/kaggle/working/) that gets preserved as output when you create a version using \"Save & Run All\" \n",
    "# You can also write temporary files to /kaggle/temp/, but they won't be saved outside of the current session"
   ]
  },
  {
   "cell_type": "code",
   "execution_count": 2,
   "id": "48274638",
   "metadata": {
    "execution": {
     "iopub.execute_input": "2025-08-01T14:55:45.911641Z",
     "iopub.status.busy": "2025-08-01T14:55:45.911159Z",
     "iopub.status.idle": "2025-08-01T14:55:56.894460Z",
     "shell.execute_reply": "2025-08-01T14:55:56.893573Z"
    },
    "papermill": {
     "duration": 10.988231,
     "end_time": "2025-08-01T14:55:56.896218",
     "exception": false,
     "start_time": "2025-08-01T14:55:45.907987",
     "status": "completed"
    },
    "tags": []
   },
   "outputs": [],
   "source": [
    "import torch\n",
    "import torchvision\n",
    "from torchvision import transforms, datasets"
   ]
  },
  {
   "cell_type": "code",
   "execution_count": 3,
   "id": "fb18a6d2",
   "metadata": {
    "execution": {
     "iopub.execute_input": "2025-08-01T14:55:56.901589Z",
     "iopub.status.busy": "2025-08-01T14:55:56.901167Z",
     "iopub.status.idle": "2025-08-01T14:55:58.723858Z",
     "shell.execute_reply": "2025-08-01T14:55:58.722829Z"
    },
    "papermill": {
     "duration": 1.826899,
     "end_time": "2025-08-01T14:55:58.725359",
     "exception": false,
     "start_time": "2025-08-01T14:55:56.898460",
     "status": "completed"
    },
    "tags": []
   },
   "outputs": [
    {
     "name": "stderr",
     "output_type": "stream",
     "text": [
      "100%|██████████| 9.91M/9.91M [00:00<00:00, 57.0MB/s]\n",
      "100%|██████████| 28.9k/28.9k [00:00<00:00, 1.65MB/s]\n",
      "100%|██████████| 1.65M/1.65M [00:00<00:00, 14.6MB/s]\n",
      "100%|██████████| 4.54k/4.54k [00:00<00:00, 6.24MB/s]\n"
     ]
    }
   ],
   "source": [
    "train = datasets.MNIST('/kaggle/working/', train = True, download = True, transform = transforms.Compose([transforms.ToTensor()]))\n",
    "\n",
    "\n",
    "test = datasets.MNIST('/kaggle/working/', train = False, download = True, transform = transforms.Compose([transforms.ToTensor()]))"
   ]
  },
  {
   "cell_type": "code",
   "execution_count": 4,
   "id": "05dc2f1f",
   "metadata": {
    "execution": {
     "iopub.execute_input": "2025-08-01T14:55:58.732751Z",
     "iopub.status.busy": "2025-08-01T14:55:58.731996Z",
     "iopub.status.idle": "2025-08-01T14:55:58.737151Z",
     "shell.execute_reply": "2025-08-01T14:55:58.736220Z"
    },
    "papermill": {
     "duration": 0.010333,
     "end_time": "2025-08-01T14:55:58.738634",
     "exception": false,
     "start_time": "2025-08-01T14:55:58.728301",
     "status": "completed"
    },
    "tags": []
   },
   "outputs": [],
   "source": [
    "trainset = torch.utils.data.DataLoader(train, batch_size = 10, shuffle = True)\n",
    "testset = torch.utils.data.DataLoader(test, batch_size = 10, shuffle = True)"
   ]
  },
  {
   "cell_type": "code",
   "execution_count": 5,
   "id": "0815dd9e",
   "metadata": {
    "execution": {
     "iopub.execute_input": "2025-08-01T14:55:58.745246Z",
     "iopub.status.busy": "2025-08-01T14:55:58.744947Z",
     "iopub.status.idle": "2025-08-01T14:55:58.786822Z",
     "shell.execute_reply": "2025-08-01T14:55:58.785723Z"
    },
    "papermill": {
     "duration": 0.047178,
     "end_time": "2025-08-01T14:55:58.788691",
     "exception": false,
     "start_time": "2025-08-01T14:55:58.741513",
     "status": "completed"
    },
    "tags": []
   },
   "outputs": [
    {
     "name": "stdout",
     "output_type": "stream",
     "text": [
      "[tensor([[[[0., 0., 0.,  ..., 0., 0., 0.],\n",
      "          [0., 0., 0.,  ..., 0., 0., 0.],\n",
      "          [0., 0., 0.,  ..., 0., 0., 0.],\n",
      "          ...,\n",
      "          [0., 0., 0.,  ..., 0., 0., 0.],\n",
      "          [0., 0., 0.,  ..., 0., 0., 0.],\n",
      "          [0., 0., 0.,  ..., 0., 0., 0.]]],\n",
      "\n",
      "\n",
      "        [[[0., 0., 0.,  ..., 0., 0., 0.],\n",
      "          [0., 0., 0.,  ..., 0., 0., 0.],\n",
      "          [0., 0., 0.,  ..., 0., 0., 0.],\n",
      "          ...,\n",
      "          [0., 0., 0.,  ..., 0., 0., 0.],\n",
      "          [0., 0., 0.,  ..., 0., 0., 0.],\n",
      "          [0., 0., 0.,  ..., 0., 0., 0.]]],\n",
      "\n",
      "\n",
      "        [[[0., 0., 0.,  ..., 0., 0., 0.],\n",
      "          [0., 0., 0.,  ..., 0., 0., 0.],\n",
      "          [0., 0., 0.,  ..., 0., 0., 0.],\n",
      "          ...,\n",
      "          [0., 0., 0.,  ..., 0., 0., 0.],\n",
      "          [0., 0., 0.,  ..., 0., 0., 0.],\n",
      "          [0., 0., 0.,  ..., 0., 0., 0.]]],\n",
      "\n",
      "\n",
      "        ...,\n",
      "\n",
      "\n",
      "        [[[0., 0., 0.,  ..., 0., 0., 0.],\n",
      "          [0., 0., 0.,  ..., 0., 0., 0.],\n",
      "          [0., 0., 0.,  ..., 0., 0., 0.],\n",
      "          ...,\n",
      "          [0., 0., 0.,  ..., 0., 0., 0.],\n",
      "          [0., 0., 0.,  ..., 0., 0., 0.],\n",
      "          [0., 0., 0.,  ..., 0., 0., 0.]]],\n",
      "\n",
      "\n",
      "        [[[0., 0., 0.,  ..., 0., 0., 0.],\n",
      "          [0., 0., 0.,  ..., 0., 0., 0.],\n",
      "          [0., 0., 0.,  ..., 0., 0., 0.],\n",
      "          ...,\n",
      "          [0., 0., 0.,  ..., 0., 0., 0.],\n",
      "          [0., 0., 0.,  ..., 0., 0., 0.],\n",
      "          [0., 0., 0.,  ..., 0., 0., 0.]]],\n",
      "\n",
      "\n",
      "        [[[0., 0., 0.,  ..., 0., 0., 0.],\n",
      "          [0., 0., 0.,  ..., 0., 0., 0.],\n",
      "          [0., 0., 0.,  ..., 0., 0., 0.],\n",
      "          ...,\n",
      "          [0., 0., 0.,  ..., 0., 0., 0.],\n",
      "          [0., 0., 0.,  ..., 0., 0., 0.],\n",
      "          [0., 0., 0.,  ..., 0., 0., 0.]]]]), tensor([6, 3, 5, 6, 9, 4, 7, 3, 4, 9])]\n"
     ]
    }
   ],
   "source": [
    "for data in trainset:\n",
    "    print(data)\n",
    "    break"
   ]
  },
  {
   "cell_type": "code",
   "execution_count": 6,
   "id": "66b8f393",
   "metadata": {
    "execution": {
     "iopub.execute_input": "2025-08-01T14:55:58.795862Z",
     "iopub.status.busy": "2025-08-01T14:55:58.795514Z",
     "iopub.status.idle": "2025-08-01T14:55:58.802729Z",
     "shell.execute_reply": "2025-08-01T14:55:58.801795Z"
    },
    "papermill": {
     "duration": 0.012394,
     "end_time": "2025-08-01T14:55:58.804156",
     "exception": false,
     "start_time": "2025-08-01T14:55:58.791762",
     "status": "completed"
    },
    "tags": []
   },
   "outputs": [
    {
     "data": {
      "text/plain": [
       "tensor(6)"
      ]
     },
     "execution_count": 6,
     "metadata": {},
     "output_type": "execute_result"
    }
   ],
   "source": [
    "x,y = data[0][0], data[1][0]\n",
    "y"
   ]
  },
  {
   "cell_type": "code",
   "execution_count": null,
   "id": "47a5f5a0",
   "metadata": {
    "papermill": {
     "duration": 0.002635,
     "end_time": "2025-08-01T14:55:58.809810",
     "exception": false,
     "start_time": "2025-08-01T14:55:58.807175",
     "status": "completed"
    },
    "tags": []
   },
   "outputs": [],
   "source": []
  }
 ],
 "metadata": {
  "kaggle": {
   "accelerator": "none",
   "dataSources": [],
   "dockerImageVersionId": 31089,
   "isGpuEnabled": false,
   "isInternetEnabled": true,
   "language": "python",
   "sourceType": "notebook"
  },
  "kernelspec": {
   "display_name": "Python 3",
   "language": "python",
   "name": "python3"
  },
  "language_info": {
   "codemirror_mode": {
    "name": "ipython",
    "version": 3
   },
   "file_extension": ".py",
   "mimetype": "text/x-python",
   "name": "python",
   "nbconvert_exporter": "python",
   "pygments_lexer": "ipython3",
   "version": "3.11.13"
  },
  "papermill": {
   "default_parameters": {},
   "duration": 22.147349,
   "end_time": "2025-08-01T14:56:01.514279",
   "environment_variables": {},
   "exception": null,
   "input_path": "__notebook__.ipynb",
   "output_path": "__notebook__.ipynb",
   "parameters": {},
   "start_time": "2025-08-01T14:55:39.366930",
   "version": "2.6.0"
  }
 },
 "nbformat": 4,
 "nbformat_minor": 5
}
